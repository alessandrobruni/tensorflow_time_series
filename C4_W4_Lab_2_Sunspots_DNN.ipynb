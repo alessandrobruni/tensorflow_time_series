{
  "cells": [
    {
      "cell_type": "markdown",
      "metadata": {
        "id": "view-in-github",
        "colab_type": "text"
      },
      "source": [
        "<a href=\"https://colab.research.google.com/github/alessandrobruni/tensorflow_time_series/blob/main/C4_W4_Lab_2_Sunspots_DNN.ipynb\" target=\"_parent\"><img src=\"https://colab.research.google.com/assets/colab-badge.svg\" alt=\"Open In Colab\"/></a>"
      ]
    },
    {
      "cell_type": "markdown",
      "metadata": {
        "id": "veBQzxczDGTp"
      },
      "source": [
        "<a href=\"https://colab.research.google.com/github/https-deeplearning-ai/tensorflow-1-public/blob/main/C4/W4/ungraded_labs/C4_W4_Lab_2_Sunspots_DNN.ipynb\" target=\"_parent\"><img src=\"https://colab.research.google.com/assets/colab-badge.svg\" alt=\"Open In Colab\"/></a>"
      ]
    },
    {
      "cell_type": "markdown",
      "metadata": {
        "id": "JQsk1BKwZrBh"
      },
      "source": [
        "# Ungraded Lab: Predicting Sunspots with Neural Networks (DNN only)\n",
        "\n",
        "In the remaining labs for this week, you will move away from synthetic time series and start building models for real world data. In particular, you will train on the [Sunspots](https://www.kaggle.com/datasets/robervalt/sunspots) dataset: a monthly record of sunspot numbers from January 1749 to July 2018. You will first build a deep neural network here composed of dense layers. This will act as your baseline so you can compare it to the next lab where you will use a more complex architecture.\n",
        "\n",
        "Let's begin!"
      ]
    },
    {
      "cell_type": "markdown",
      "metadata": {
        "id": "2JHlrB12aeFD"
      },
      "source": [
        "## Imports\n",
        "\n",
        "You will use the same imports as before with the addition of the [csv](https://docs.python.org/3/library/csv.html) module. You will need this to parse the CSV file containing the dataset."
      ]
    },
    {
      "cell_type": "code",
      "execution_count": 1,
      "metadata": {
        "id": "56XEQOGknrAk"
      },
      "outputs": [],
      "source": [
        "import tensorflow as tf\n",
        "import numpy as np\n",
        "import matplotlib.pyplot as plt\n",
        "import csv"
      ]
    },
    {
      "cell_type": "markdown",
      "metadata": {
        "id": "D-mNttnaagBH"
      },
      "source": [
        "## Utilities\n",
        "\n",
        "You will only have the `plot_series()` dataset here because you no longer need the synthetic data generation functions."
      ]
    },
    {
      "cell_type": "code",
      "execution_count": 3,
      "metadata": {
        "id": "sLl52leVp5wU"
      },
      "outputs": [],
      "source": [
        "def plot_series(x, y, format=\"-\", start=0, end=None, \n",
        "                title=None, xlabel=None, ylabel=None, legend=None ):\n",
        "    \"\"\"\n",
        "    Visualizes time series data\n",
        "\n",
        "    Args:\n",
        "      x (array of int) - contains values for the x-axis\n",
        "      y (array of int or tuple of arrays) - contains the values for the y-axis\n",
        "      format (string) - line style when plotting the graph\n",
        "      label (string) - tag for the line\n",
        "      start (int) - first time step to plot\n",
        "      end (int) - last time step to plot\n",
        "      title (string) - title of the plot\n",
        "      xlabel (string) - label for the x-axis\n",
        "      ylabel (string) - label for the y-axis\n",
        "      legend (list of strings) - legend for the plot\n",
        "    \"\"\"\n",
        "\n",
        "    # Setup dimensions of the graph figure\n",
        "    plt.figure(figsize=(10, 6))\n",
        "    \n",
        "    # Check if there are more than two series to plot\n",
        "    if type(y) is tuple:\n",
        "\n",
        "      # Loop over the y elements\n",
        "      for y_curr in y:\n",
        "\n",
        "        # Plot the x and current y values\n",
        "        plt.plot(x[start:end], y_curr[start:end], format)\n",
        "\n",
        "    else:\n",
        "      # Plot the x and y values\n",
        "      plt.plot(x[start:end], y[start:end], format)\n",
        "\n",
        "    # Label the x-axis\n",
        "    plt.xlabel(xlabel)\n",
        "\n",
        "    # Label the y-axis\n",
        "    plt.ylabel(ylabel)\n",
        "\n",
        "    # Set the legend\n",
        "    if legend:\n",
        "      plt.legend(legend)\n",
        "\n",
        "    # Set the title\n",
        "    plt.title(title)\n",
        "\n",
        "    # Overlay a grid on the graph\n",
        "    plt.grid(True)\n",
        "\n",
        "    # Draw the graph on screen\n",
        "    plt.show()"
      ]
    },
    {
      "cell_type": "markdown",
      "metadata": {
        "id": "dFJv45pDauS8"
      },
      "source": [
        "## Download and Preview the Dataset\n",
        "\n",
        "You can now download the dataset and inspect the contents. The link in class is from Laurence's repo but we also hosted it in the link below."
      ]
    },
    {
      "cell_type": "code",
      "execution_count": 4,
      "metadata": {
        "id": "YwI-si5xyUkQ",
        "colab": {
          "base_uri": "https://localhost:8080/"
        },
        "outputId": "a8bbff46-1590-402e-f6ba-4c124c190caf"
      },
      "outputs": [
        {
          "output_type": "stream",
          "name": "stdout",
          "text": [
            "--2022-11-14 16:51:16--  https://storage.googleapis.com/tensorflow-1-public/course4/Sunspots.csv\n",
            "Resolving storage.googleapis.com (storage.googleapis.com)... 173.194.218.128, 108.177.11.128, 108.177.12.128, ...\n",
            "Connecting to storage.googleapis.com (storage.googleapis.com)|173.194.218.128|:443... connected.\n",
            "HTTP request sent, awaiting response... 200 OK\n",
            "Length: 70827 (69K) [text/csv]\n",
            "Saving to: ‘Sunspots.csv’\n",
            "\n",
            "\rSunspots.csv          0%[                    ]       0  --.-KB/s               \rSunspots.csv        100%[===================>]  69.17K  --.-KB/s    in 0.001s  \n",
            "\n",
            "2022-11-14 16:51:16 (83.3 MB/s) - ‘Sunspots.csv’ saved [70827/70827]\n",
            "\n"
          ]
        }
      ],
      "source": [
        "# Download the dataset\n",
        "!wget https://storage.googleapis.com/tensorflow-1-public/course4/Sunspots.csv"
      ]
    },
    {
      "cell_type": "markdown",
      "metadata": {
        "id": "c0fAiMytrwPJ"
      },
      "source": [
        "Running the cell below, you'll see that there are only three columns in the dataset:\n",
        "1. untitled column containing the month number\n",
        "2. Date which has the format `YYYY-MM-DD`\n",
        "3. Mean Total Sunspot Number"
      ]
    },
    {
      "cell_type": "code",
      "execution_count": 5,
      "metadata": {
        "id": "d5W2auXKrhVh",
        "colab": {
          "base_uri": "https://localhost:8080/"
        },
        "outputId": "690472a8-d41c-44ca-8fad-d8573559c99f"
      },
      "outputs": [
        {
          "output_type": "stream",
          "name": "stdout",
          "text": [
            ",Date,Monthly Mean Total Sunspot Number\r\n",
            "0,1749-01-31,96.7\r\n",
            "1,1749-02-28,104.3\r\n",
            "2,1749-03-31,116.7\r\n",
            "3,1749-04-30,92.8\r\n",
            "4,1749-05-31,141.7\r\n",
            "5,1749-06-30,139.2\r\n",
            "6,1749-07-31,158.0\r\n",
            "7,1749-08-31,110.5\r\n",
            "8,1749-09-30,126.5\r\n"
          ]
        }
      ],
      "source": [
        "# Preview the dataset\n",
        "!head Sunspots.csv"
      ]
    },
    {
      "cell_type": "markdown",
      "metadata": {
        "id": "lbs-Y2SDsVaw"
      },
      "source": [
        "For this lab and the next, you will only need the month number and the mean total sunspot number. You will load those into memory and convert it to arrays that represents a time series."
      ]
    },
    {
      "cell_type": "code",
      "execution_count": 6,
      "metadata": {
        "id": "NcG9r1eClbTh",
        "colab": {
          "base_uri": "https://localhost:8080/",
          "height": 388
        },
        "outputId": "c25741cd-e8fc-47d1-b2ef-f84438f6a944"
      },
      "outputs": [
        {
          "output_type": "display_data",
          "data": {
            "text/plain": [
              "<Figure size 720x432 with 1 Axes>"
            ],
            "image/png": "[encoded data removed]"
          },
          "metadata": {
            "needs_background": "light"
          }
        }
      ],
      "source": [
        "# Initialize lists\n",
        "time_step = []\n",
        "sunspots = []\n",
        "\n",
        "# Open CSV file\n",
        "with open('./Sunspots.csv') as csvfile:\n",
        "  \n",
        "  # Initialize reader\n",
        "  reader = csv.reader(csvfile, delimiter=',')\n",
        "  \n",
        "  # Skip the first line\n",
        "  next(reader)\n",
        "  \n",
        "  # Append row and sunspot number to lists\n",
        "  for row in reader:\n",
        "    time_step.append(int(row[0]))\n",
        "    sunspots.append(float(row[2]))\n",
        "\n",
        "# Convert lists to numpy arrays\n",
        "time = np.array(time_step)\n",
        "series = np.array(sunspots)\n",
        "\n",
        "# Preview the data\n",
        "plot_series(time, series, xlabel='Month', ylabel='Monthly Mean Total Sunspot Number')"
      ]
    },
    {
      "cell_type": "markdown",
      "metadata": {
        "id": "EUQE9RRoazC5"
      },
      "source": [
        "## Split the Dataset\n",
        "\n",
        "Next, you will split the dataset into training and validation sets. There are 3235 points in the dataset and you will use the first 3000 for training."
      ]
    },
    {
      "cell_type": "code",
      "execution_count": 7,
      "metadata": {
        "id": "L92YRw_IpCFG"
      },
      "outputs": [],
      "source": [
        "# Define the split time\n",
        "split_time = 3000\n",
        "\n",
        "# Get the train set \n",
        "time_train = time[:split_time]\n",
        "x_train = series[:split_time]\n",
        "\n",
        "# Get the validation set\n",
        "time_valid = time[split_time:]\n",
        "x_valid = series[split_time:]"
      ]
    },
    {
      "cell_type": "markdown",
      "metadata": {
        "id": "RbuIOrb3a093"
      },
      "source": [
        "## Prepare Features and Labels\n",
        "\n",
        "You can then prepare the dataset windows as before. The window size is set to 30 points (equal to 2.5 years) but feel free to change later on if you want to experiment."
      ]
    },
    {
      "cell_type": "code",
      "execution_count": 8,
      "metadata": {
        "id": "lJwUUZscnG38"
      },
      "outputs": [],
      "source": [
        "def windowed_dataset(series, window_size, batch_size, shuffle_buffer):\n",
        "    \"\"\"Generates dataset windows\n",
        "\n",
        "    Args:\n",
        "      series (array of float) - contains the values of the time series\n",
        "      window_size (int) - the number of time steps to include in the feature\n",
        "      batch_size (int) - the batch size\n",
        "      shuffle_buffer(int) - buffer size to use for the shuffle method\n",
        "\n",
        "    Returns:\n",
        "      dataset (TF Dataset) - TF Dataset containing time windows\n",
        "    \"\"\"\n",
        "  \n",
        "    # Generate a TF Dataset from the series values\n",
        "    dataset = tf.data.Dataset.from_tensor_slices(series)\n",
        "    \n",
        "    # Window the data but only take those with the specified size\n",
        "    dataset = dataset.window(window_size + 1, shift=1, drop_remainder=True)\n",
        "    \n",
        "    # Flatten the windows by putting its elements in a single batch\n",
        "    dataset = dataset.flat_map(lambda window: window.batch(window_size + 1))\n",
        "\n",
        "    # Create tuples with features and labels \n",
        "    dataset = dataset.map(lambda window: (window[:-1], window[-1]))\n",
        "\n",
        "    # Shuffle the windows\n",
        "    dataset = dataset.shuffle(shuffle_buffer)\n",
        "    \n",
        "    # Create batches of windows\n",
        "    dataset = dataset.batch(batch_size).prefetch(1)\n",
        "    \n",
        "    return dataset"
      ]
    },
    {
      "cell_type": "code",
      "execution_count": 9,
      "metadata": {
        "id": "9g5zSxZwZQt_"
      },
      "outputs": [],
      "source": [
        "# Parameters\n",
        "window_size = 30\n",
        "batch_size = 32\n",
        "shuffle_buffer_size = 1000\n",
        "\n",
        "# Generate the dataset windows\n",
        "train_set = windowed_dataset(x_train, window_size, batch_size, shuffle_buffer_size)"
      ]
    },
    {
      "cell_type": "markdown",
      "metadata": {
        "id": "_Lhpi42ta5yP"
      },
      "source": [
        "## Build the Model\n",
        "\n",
        "The model will be 3-layer dense network as shown below."
      ]
    },
    {
      "cell_type": "code",
      "execution_count": 10,
      "metadata": {
        "id": "AclfYY3Mn6Ph",
        "colab": {
          "base_uri": "https://localhost:8080/"
        },
        "outputId": "7af7b768-85ec-482f-f81c-02e6805400a1"
      },
      "outputs": [
        {
          "output_type": "stream",
          "name": "stdout",
          "text": [
            "Model: \"sequential\"\n",
            "_________________________________________________________________\n",
            " Layer (type)                Output Shape              Param #   \n",
            "=================================================================\n",
            " dense (Dense)               (None, 30)                930       \n",
            "                                                                 \n",
            " dense_1 (Dense)             (None, 10)                310       \n",
            "                                                                 \n",
            " dense_2 (Dense)             (None, 1)                 11        \n",
            "                                                                 \n",
            "=================================================================\n",
            "Total params: 1,251\n",
            "Trainable params: 1,251\n",
            "Non-trainable params: 0\n",
            "_________________________________________________________________\n"
          ]
        }
      ],
      "source": [
        "# Build the model\n",
        "model = tf.keras.models.Sequential([\n",
        "    tf.keras.layers.Dense(30, input_shape=[window_size], activation=\"relu\"), \n",
        "    tf.keras.layers.Dense(10, activation=\"relu\"),\n",
        "    tf.keras.layers.Dense(1)\n",
        "])\n",
        "\n",
        "# Print the model summary\n",
        "model.summary()"
      ]
    },
    {
      "cell_type": "markdown",
      "metadata": {
        "id": "uyT14hQOa97V"
      },
      "source": [
        "## Tune the Learning Rate\n",
        "\n",
        "You can pick a learning rate by running the same learning rate scheduler code from previous labs."
      ]
    },
    {
      "cell_type": "code",
      "execution_count": 11,
      "metadata": {
        "id": "GXiqsZQ1y4nD",
        "colab": {
          "base_uri": "https://localhost:8080/"
        },
        "outputId": "688cdc7a-c1c2-456f-d841-0b1389bbdd90"
      },
      "outputs": [
        {
          "output_type": "stream",
          "name": "stdout",
          "text": [
            "Epoch 1/100\n",
            "93/93 [==============================] - 2s 8ms/step - loss: 98.8206 - lr: 1.0000e-08\n",
            "Epoch 2/100\n",
            "93/93 [==============================] - 0s 4ms/step - loss: 97.9782 - lr: 1.1220e-08\n",
            "Epoch 3/100\n",
            "93/93 [==============================] - 0s 4ms/step - loss: 97.0190 - lr: 1.2589e-08\n",
            "Epoch 4/100\n",
            "93/93 [==============================] - 0s 4ms/step - loss: 95.9317 - lr: 1.4125e-08\n",
            "Epoch 5/100\n",
            "93/93 [==============================] - 0s 4ms/step - loss: 94.6970 - lr: 1.5849e-08\n",
            "Epoch 6/100\n",
            "93/93 [==============================] - 1s 4ms/step - loss: 93.3002 - lr: 1.7783e-08\n",
            "Epoch 7/100\n",
            "93/93 [==============================] - 0s 4ms/step - loss: 91.7166 - lr: 1.9953e-08\n",
            "Epoch 8/100\n",
            "93/93 [==============================] - 0s 4ms/step - loss: 89.9308 - lr: 2.2387e-08\n",
            "Epoch 9/100\n",
            "93/93 [==============================] - 0s 4ms/step - loss: 87.9085 - lr: 2.5119e-08\n",
            "Epoch 10/100\n",
            "93/93 [==============================] - 0s 4ms/step - loss: 85.6171 - lr: 2.8184e-08\n",
            "Epoch 11/100\n",
            "93/93 [==============================] - 1s 4ms/step - loss: 83.0188 - lr: 3.1623e-08\n",
            "Epoch 12/100\n",
            "93/93 [==============================] - 0s 4ms/step - loss: 80.0929 - lr: 3.5481e-08\n",
            "Epoch 13/100\n",
            "93/93 [==============================] - 0s 4ms/step - loss: 76.8098 - lr: 3.9811e-08\n",
            "Epoch 14/100\n",
            "93/93 [==============================] - 0s 4ms/step - loss: 73.1460 - lr: 4.4668e-08\n",
            "Epoch 15/100\n",
            "93/93 [==============================] - 1s 4ms/step - loss: 69.1238 - lr: 5.0119e-08\n",
            "Epoch 16/100\n",
            "93/93 [==============================] - 0s 4ms/step - loss: 64.7331 - lr: 5.6234e-08\n",
            "Epoch 17/100\n",
            "93/93 [==============================] - 0s 4ms/step - loss: 59.9624 - lr: 6.3096e-08\n",
            "Epoch 18/100\n",
            "93/93 [==============================] - 1s 4ms/step - loss: 55.1391 - lr: 7.0795e-08\n",
            "Epoch 19/100\n",
            "93/93 [==============================] - 0s 4ms/step - loss: 50.5352 - lr: 7.9433e-08\n",
            "Epoch 20/100\n",
            "93/93 [==============================] - 0s 4ms/step - loss: 46.6061 - lr: 8.9125e-08\n",
            "Epoch 21/100\n",
            "93/93 [==============================] - 0s 4ms/step - loss: 43.5572 - lr: 1.0000e-07\n",
            "Epoch 22/100\n",
            "93/93 [==============================] - 0s 4ms/step - loss: 41.3376 - lr: 1.1220e-07\n",
            "Epoch 23/100\n",
            "93/93 [==============================] - 1s 4ms/step - loss: 39.7665 - lr: 1.2589e-07\n",
            "Epoch 24/100\n",
            "93/93 [==============================] - 1s 4ms/step - loss: 38.6981 - lr: 1.4125e-07\n",
            "Epoch 25/100\n",
            "93/93 [==============================] - 1s 4ms/step - loss: 37.8647 - lr: 1.5849e-07\n",
            "Epoch 26/100\n",
            "93/93 [==============================] - 0s 4ms/step - loss: 37.1176 - lr: 1.7783e-07\n",
            "Epoch 27/100\n",
            "93/93 [==============================] - 1s 4ms/step - loss: 36.3912 - lr: 1.9953e-07\n",
            "Epoch 28/100\n",
            "93/93 [==============================] - 0s 4ms/step - loss: 35.6361 - lr: 2.2387e-07\n",
            "Epoch 29/100\n",
            "93/93 [==============================] - 0s 4ms/step - loss: 34.8251 - lr: 2.5119e-07\n",
            "Epoch 30/100\n",
            "93/93 [==============================] - 0s 4ms/step - loss: 33.9887 - lr: 2.8184e-07\n",
            "Epoch 31/100\n",
            "93/93 [==============================] - 1s 4ms/step - loss: 33.1270 - lr: 3.1623e-07\n",
            "Epoch 32/100\n",
            "93/93 [==============================] - 0s 4ms/step - loss: 32.2437 - lr: 3.5481e-07\n",
            "Epoch 33/100\n",
            "93/93 [==============================] - 0s 4ms/step - loss: 31.3514 - lr: 3.9811e-07\n",
            "Epoch 34/100\n",
            "93/93 [==============================] - 0s 4ms/step - loss: 30.4777 - lr: 4.4668e-07\n",
            "Epoch 35/100\n",
            "93/93 [==============================] - 0s 4ms/step - loss: 29.5862 - lr: 5.0119e-07\n",
            "Epoch 36/100\n",
            "93/93 [==============================] - 0s 4ms/step - loss: 28.7030 - lr: 5.6234e-07\n",
            "Epoch 37/100\n",
            "93/93 [==============================] - 0s 4ms/step - loss: 27.7883 - lr: 6.3096e-07\n",
            "Epoch 38/100\n",
            "93/93 [==============================] - 0s 4ms/step - loss: 26.9027 - lr: 7.0795e-07\n",
            "Epoch 39/100\n",
            "93/93 [==============================] - 1s 4ms/step - loss: 26.0679 - lr: 7.9433e-07\n",
            "Epoch 40/100\n",
            "93/93 [==============================] - 0s 4ms/step - loss: 25.3257 - lr: 8.9125e-07\n",
            "Epoch 41/100\n",
            "93/93 [==============================] - 0s 4ms/step - loss: 24.6182 - lr: 1.0000e-06\n",
            "Epoch 42/100\n",
            "93/93 [==============================] - 0s 4ms/step - loss: 23.9668 - lr: 1.1220e-06\n",
            "Epoch 43/100\n",
            "93/93 [==============================] - 0s 4ms/step - loss: 23.4115 - lr: 1.2589e-06\n",
            "Epoch 44/100\n",
            "93/93 [==============================] - 1s 4ms/step - loss: 22.8543 - lr: 1.4125e-06\n",
            "Epoch 45/100\n",
            "93/93 [==============================] - 0s 4ms/step - loss: 22.3850 - lr: 1.5849e-06\n",
            "Epoch 46/100\n",
            "93/93 [==============================] - 1s 4ms/step - loss: 21.9119 - lr: 1.7783e-06\n",
            "Epoch 47/100\n",
            "93/93 [==============================] - 0s 4ms/step - loss: 21.5478 - lr: 1.9953e-06\n",
            "Epoch 48/100\n",
            "93/93 [==============================] - 1s 4ms/step - loss: 21.1830 - lr: 2.2387e-06\n",
            "Epoch 49/100\n",
            "93/93 [==============================] - 0s 4ms/step - loss: 20.8751 - lr: 2.5119e-06\n",
            "Epoch 50/100\n",
            "93/93 [==============================] - 1s 4ms/step - loss: 20.5636 - lr: 2.8184e-06\n",
            "Epoch 51/100\n",
            "93/93 [==============================] - 0s 4ms/step - loss: 20.3055 - lr: 3.1623e-06\n",
            "Epoch 52/100\n",
            "93/93 [==============================] - 0s 4ms/step - loss: 20.0176 - lr: 3.5481e-06\n",
            "Epoch 53/100\n",
            "93/93 [==============================] - 0s 4ms/step - loss: 19.7871 - lr: 3.9811e-06\n",
            "Epoch 54/100\n",
            "93/93 [==============================] - 1s 4ms/step - loss: 19.4756 - lr: 4.4668e-06\n",
            "Epoch 55/100\n",
            "93/93 [==============================] - 1s 4ms/step - loss: 19.3579 - lr: 5.0119e-06\n",
            "Epoch 56/100\n",
            "93/93 [==============================] - 1s 4ms/step - loss: 19.2500 - lr: 5.6234e-06\n",
            "Epoch 57/100\n",
            "93/93 [==============================] - 1s 4ms/step - loss: 18.9548 - lr: 6.3096e-06\n",
            "Epoch 58/100\n",
            "93/93 [==============================] - 0s 4ms/step - loss: 18.7830 - lr: 7.0795e-06\n",
            "Epoch 59/100\n",
            "93/93 [==============================] - 0s 4ms/step - loss: 18.7730 - lr: 7.9433e-06\n",
            "Epoch 60/100\n",
            "93/93 [==============================] - 0s 4ms/step - loss: 18.5451 - lr: 8.9125e-06\n",
            "Epoch 61/100\n",
            "93/93 [==============================] - 0s 4ms/step - loss: 18.5532 - lr: 1.0000e-05\n",
            "Epoch 62/100\n",
            "93/93 [==============================] - 1s 4ms/step - loss: 18.3192 - lr: 1.1220e-05\n",
            "Epoch 63/100\n",
            "93/93 [==============================] - 0s 4ms/step - loss: 18.1222 - lr: 1.2589e-05\n",
            "Epoch 64/100\n",
            "93/93 [==============================] - 1s 4ms/step - loss: 18.4741 - lr: 1.4125e-05\n",
            "Epoch 65/100\n",
            "93/93 [==============================] - 0s 4ms/step - loss: 18.1936 - lr: 1.5849e-05\n",
            "Epoch 66/100\n",
            "93/93 [==============================] - 1s 4ms/step - loss: 18.0119 - lr: 1.7783e-05\n",
            "Epoch 67/100\n",
            "93/93 [==============================] - 0s 4ms/step - loss: 17.9479 - lr: 1.9953e-05\n",
            "Epoch 68/100\n",
            "93/93 [==============================] - 0s 4ms/step - loss: 18.1684 - lr: 2.2387e-05\n",
            "Epoch 69/100\n",
            "93/93 [==============================] - 1s 6ms/step - loss: 18.3135 - lr: 2.5119e-05\n",
            "Epoch 70/100\n",
            "93/93 [==============================] - 1s 5ms/step - loss: 18.1619 - lr: 2.8184e-05\n",
            "Epoch 71/100\n",
            "93/93 [==============================] - 0s 4ms/step - loss: 17.7089 - lr: 3.1623e-05\n",
            "Epoch 72/100\n",
            "93/93 [==============================] - 0s 4ms/step - loss: 18.0575 - lr: 3.5481e-05\n",
            "Epoch 73/100\n",
            "93/93 [==============================] - 0s 4ms/step - loss: 17.6090 - lr: 3.9811e-05\n",
            "Epoch 74/100\n",
            "93/93 [==============================] - 0s 4ms/step - loss: 17.8006 - lr: 4.4668e-05\n",
            "Epoch 75/100\n",
            "93/93 [==============================] - 0s 4ms/step - loss: 17.7807 - lr: 5.0119e-05\n",
            "Epoch 76/100\n",
            "93/93 [==============================] - 1s 4ms/step - loss: 17.4562 - lr: 5.6234e-05\n",
            "Epoch 77/100\n",
            "93/93 [==============================] - 0s 4ms/step - loss: 17.9838 - lr: 6.3096e-05\n",
            "Epoch 78/100\n",
            "93/93 [==============================] - 1s 4ms/step - loss: 17.7493 - lr: 7.0795e-05\n",
            "Epoch 79/100\n",
            "93/93 [==============================] - 0s 4ms/step - loss: 17.9461 - lr: 7.9433e-05\n",
            "Epoch 80/100\n",
            "93/93 [==============================] - 0s 4ms/step - loss: 18.2317 - lr: 8.9125e-05\n",
            "Epoch 81/100\n",
            "93/93 [==============================] - 0s 4ms/step - loss: 17.7102 - lr: 1.0000e-04\n",
            "Epoch 82/100\n",
            "93/93 [==============================] - 1s 4ms/step - loss: 18.0977 - lr: 1.1220e-04\n",
            "Epoch 83/100\n",
            "93/93 [==============================] - 1s 4ms/step - loss: 18.2478 - lr: 1.2589e-04\n",
            "Epoch 84/100\n",
            "93/93 [==============================] - 0s 4ms/step - loss: 18.4704 - lr: 1.4125e-04\n",
            "Epoch 85/100\n",
            "93/93 [==============================] - 0s 4ms/step - loss: 18.1710 - lr: 1.5849e-04\n",
            "Epoch 86/100\n",
            "93/93 [==============================] - 0s 4ms/step - loss: 18.9569 - lr: 1.7783e-04\n",
            "Epoch 87/100\n",
            "93/93 [==============================] - 1s 4ms/step - loss: 18.0467 - lr: 1.9953e-04\n",
            "Epoch 88/100\n",
            "93/93 [==============================] - 0s 4ms/step - loss: 18.8411 - lr: 2.2387e-04\n",
            "Epoch 89/100\n",
            "93/93 [==============================] - 1s 4ms/step - loss: 19.0302 - lr: 2.5119e-04\n",
            "Epoch 90/100\n",
            "93/93 [==============================] - 0s 4ms/step - loss: 21.0138 - lr: 2.8184e-04\n",
            "Epoch 91/100\n",
            "93/93 [==============================] - 1s 4ms/step - loss: 19.1171 - lr: 3.1623e-04\n",
            "Epoch 92/100\n",
            "93/93 [==============================] - 0s 4ms/step - loss: 20.3483 - lr: 3.5481e-04\n",
            "Epoch 93/100\n",
            "93/93 [==============================] - 1s 4ms/step - loss: 19.0207 - lr: 3.9811e-04\n",
            "Epoch 94/100\n",
            "93/93 [==============================] - 1s 4ms/step - loss: 19.9380 - lr: 4.4668e-04\n",
            "Epoch 95/100\n",
            "93/93 [==============================] - 0s 4ms/step - loss: 19.6377 - lr: 5.0119e-04\n",
            "Epoch 96/100\n",
            "93/93 [==============================] - 1s 4ms/step - loss: 20.0825 - lr: 5.6234e-04\n",
            "Epoch 97/100\n",
            "93/93 [==============================] - 1s 4ms/step - loss: 20.7484 - lr: 6.3096e-04\n",
            "Epoch 98/100\n",
            "93/93 [==============================] - 0s 4ms/step - loss: 24.0017 - lr: 7.0795e-04\n",
            "Epoch 99/100\n",
            "93/93 [==============================] - 0s 4ms/step - loss: 27.3635 - lr: 7.9433e-04\n",
            "Epoch 100/100\n",
            "93/93 [==============================] - 0s 4ms/step - loss: 26.2006 - lr: 8.9125e-04\n"
          ]
        }
      ],
      "source": [
        "# Set the learning rate scheduler\n",
        "lr_schedule = tf.keras.callbacks.LearningRateScheduler(\n",
        "    lambda epoch: 1e-8 * 10**(epoch / 20))\n",
        "\n",
        "# Initialize the optimizer\n",
        "optimizer = tf.keras.optimizers.SGD(momentum=0.9)\n",
        "\n",
        "# Set the training parameters\n",
        "model.compile(loss=tf.keras.losses.Huber(), optimizer=optimizer)\n",
        "\n",
        "# Train the model\n",
        "history = model.fit(train_set, epochs=100, callbacks=[lr_schedule])"
      ]
    },
    {
      "cell_type": "code",
      "execution_count": 17,
      "metadata": {
        "id": "xJFAB1NTzGJV",
        "colab": {
          "base_uri": "https://localhost:8080/",
          "height": 405
        },
        "outputId": "361820db-88d8-4d2f-edbb-1d41abb6b7d8"
      },
      "outputs": [
        {
          "output_type": "execute_result",
          "data": {
            "text/plain": [
              "(1e-08, 0.001, 0.0, 100.0)"
            ]
          },
          "metadata": {},
          "execution_count": 17
        },
        {
          "output_type": "display_data",
          "data": {
            "text/plain": [
              "<Figure size 720x432 with 1 Axes>"
            ],
            "image/png": "[encoded data removed]"
          },
          "metadata": {
            "needs_background": "light"
          }
        }
      ],
      "source": [
        "# Define the learning rate array\n",
        "lrs = 1e-8 * (10 ** (np.arange(100) / 20))\n",
        "\n",
        "# Set the figure size\n",
        "plt.figure(figsize=(10, 6))\n",
        "\n",
        "# Set the grid\n",
        "plt.grid(True)\n",
        "\n",
        "# Plot the loss in log scale\n",
        "plt.semilogx(lrs, history.history[\"loss\"])\n",
        "\n",
        "# Increase the tickmarks size\n",
        "plt.tick_params('both', length=10, width=1, which='both')\n",
        "\n",
        "# Set the plot boundaries\n",
        "plt.axis([1e-8, 1e-3, 0, 100])"
      ]
    },
    {
      "cell_type": "markdown",
      "metadata": {
        "id": "oY4mnUpNbFdc"
      },
      "source": [
        "## Train the Model\n",
        "\n",
        "Once you've picked a learning rate, you can rebuild the model and start training."
      ]
    },
    {
      "cell_type": "code",
      "execution_count": 13,
      "metadata": {
        "id": "Ngna3zR4znJd"
      },
      "outputs": [],
      "source": [
        "# Reset states generated by Keras\n",
        "tf.keras.backend.clear_session()\n",
        "\n",
        "# Build the Model\n",
        "model = tf.keras.models.Sequential([\n",
        "    tf.keras.layers.Dense(30, input_shape=[window_size], activation=\"relu\"), \n",
        "    tf.keras.layers.Dense(10, activation=\"relu\"),\n",
        "    tf.keras.layers.Dense(1)\n",
        "])"
      ]
    },
    {
      "cell_type": "code",
      "execution_count": 14,
      "metadata": {
        "id": "7FKXvEYxzuoc",
        "colab": {
          "base_uri": "https://localhost:8080/"
        },
        "outputId": "57d64cea-85cd-4110-f8fc-28837a5b4ec5"
      },
      "outputs": [
        {
          "output_type": "stream",
          "name": "stdout",
          "text": [
            "Epoch 1/100\n",
            "93/93 [==============================] - 1s 5ms/step - loss: 31.6324 - mae: 32.1264\n",
            "Epoch 2/100\n",
            "93/93 [==============================] - 1s 5ms/step - loss: 20.9460 - mae: 21.4388\n",
            "Epoch 3/100\n",
            "93/93 [==============================] - 1s 4ms/step - loss: 19.2633 - mae: 19.7567\n",
            "Epoch 4/100\n",
            "93/93 [==============================] - 1s 4ms/step - loss: 18.9228 - mae: 19.4150\n",
            "Epoch 5/100\n",
            "93/93 [==============================] - 1s 5ms/step - loss: 18.6777 - mae: 19.1694\n",
            "Epoch 6/100\n",
            "93/93 [==============================] - 1s 4ms/step - loss: 18.2424 - mae: 18.7347\n",
            "Epoch 7/100\n",
            "93/93 [==============================] - 1s 5ms/step - loss: 18.1455 - mae: 18.6385\n",
            "Epoch 8/100\n",
            "93/93 [==============================] - 1s 4ms/step - loss: 18.2730 - mae: 18.7639\n",
            "Epoch 9/100\n",
            "93/93 [==============================] - 1s 4ms/step - loss: 17.9842 - mae: 18.4766\n",
            "Epoch 10/100\n",
            "93/93 [==============================] - 1s 4ms/step - loss: 18.0853 - mae: 18.5757\n",
            "Epoch 11/100\n",
            "93/93 [==============================] - 1s 4ms/step - loss: 18.0006 - mae: 18.4937\n",
            "Epoch 12/100\n",
            "93/93 [==============================] - 1s 5ms/step - loss: 17.9523 - mae: 18.4447\n",
            "Epoch 13/100\n",
            "93/93 [==============================] - 1s 4ms/step - loss: 17.5368 - mae: 18.0293\n",
            "Epoch 14/100\n",
            "93/93 [==============================] - 1s 4ms/step - loss: 17.4347 - mae: 17.9261\n",
            "Epoch 15/100\n",
            "93/93 [==============================] - 1s 4ms/step - loss: 17.6450 - mae: 18.1379\n",
            "Epoch 16/100\n",
            "93/93 [==============================] - 1s 4ms/step - loss: 17.8485 - mae: 18.3415\n",
            "Epoch 17/100\n",
            "93/93 [==============================] - 1s 4ms/step - loss: 17.4481 - mae: 17.9388\n",
            "Epoch 18/100\n",
            "93/93 [==============================] - 1s 4ms/step - loss: 17.2943 - mae: 17.7864\n",
            "Epoch 19/100\n",
            "93/93 [==============================] - 1s 5ms/step - loss: 17.4451 - mae: 17.9347\n",
            "Epoch 20/100\n",
            "93/93 [==============================] - 1s 4ms/step - loss: 17.4171 - mae: 17.9078\n",
            "Epoch 21/100\n",
            "93/93 [==============================] - 1s 4ms/step - loss: 17.2159 - mae: 17.7078\n",
            "Epoch 22/100\n",
            "93/93 [==============================] - 1s 5ms/step - loss: 17.4275 - mae: 17.9188\n",
            "Epoch 23/100\n",
            "93/93 [==============================] - 1s 5ms/step - loss: 17.3118 - mae: 17.8032\n",
            "Epoch 24/100\n",
            "93/93 [==============================] - 1s 4ms/step - loss: 17.1143 - mae: 17.6062\n",
            "Epoch 25/100\n",
            "93/93 [==============================] - 1s 5ms/step - loss: 17.1656 - mae: 17.6584\n",
            "Epoch 26/100\n",
            "93/93 [==============================] - 1s 5ms/step - loss: 17.1375 - mae: 17.6302\n",
            "Epoch 27/100\n",
            "93/93 [==============================] - 1s 5ms/step - loss: 17.1956 - mae: 17.6872\n",
            "Epoch 28/100\n",
            "93/93 [==============================] - 1s 5ms/step - loss: 17.3043 - mae: 17.7943\n",
            "Epoch 29/100\n",
            "93/93 [==============================] - 1s 4ms/step - loss: 17.2288 - mae: 17.7203\n",
            "Epoch 30/100\n",
            "93/93 [==============================] - 1s 5ms/step - loss: 17.2898 - mae: 17.7821\n",
            "Epoch 31/100\n",
            "93/93 [==============================] - 1s 5ms/step - loss: 17.1135 - mae: 17.6045\n",
            "Epoch 32/100\n",
            "93/93 [==============================] - 1s 5ms/step - loss: 17.1856 - mae: 17.6769\n",
            "Epoch 33/100\n",
            "93/93 [==============================] - 1s 5ms/step - loss: 17.3127 - mae: 17.8052\n",
            "Epoch 34/100\n",
            "93/93 [==============================] - 1s 5ms/step - loss: 17.0529 - mae: 17.5446\n",
            "Epoch 35/100\n",
            "93/93 [==============================] - 1s 4ms/step - loss: 17.0838 - mae: 17.5746\n",
            "Epoch 36/100\n",
            "93/93 [==============================] - 1s 4ms/step - loss: 17.1079 - mae: 17.5989\n",
            "Epoch 37/100\n",
            "93/93 [==============================] - 1s 4ms/step - loss: 17.2588 - mae: 17.7508\n",
            "Epoch 38/100\n",
            "93/93 [==============================] - 1s 4ms/step - loss: 17.2230 - mae: 17.7146\n",
            "Epoch 39/100\n",
            "93/93 [==============================] - 1s 4ms/step - loss: 17.5825 - mae: 18.0751\n",
            "Epoch 40/100\n",
            "93/93 [==============================] - 1s 4ms/step - loss: 17.1503 - mae: 17.6411\n",
            "Epoch 41/100\n",
            "93/93 [==============================] - 1s 4ms/step - loss: 17.0370 - mae: 17.5282\n",
            "Epoch 42/100\n",
            "93/93 [==============================] - 1s 4ms/step - loss: 17.0065 - mae: 17.4980\n",
            "Epoch 43/100\n",
            "93/93 [==============================] - 1s 4ms/step - loss: 17.0622 - mae: 17.5534\n",
            "Epoch 44/100\n",
            "93/93 [==============================] - 1s 4ms/step - loss: 17.0612 - mae: 17.5534\n",
            "Epoch 45/100\n",
            "93/93 [==============================] - 1s 5ms/step - loss: 16.9732 - mae: 17.4633\n",
            "Epoch 46/100\n",
            "93/93 [==============================] - 1s 5ms/step - loss: 17.0064 - mae: 17.4975\n",
            "Epoch 47/100\n",
            "93/93 [==============================] - 1s 5ms/step - loss: 17.3488 - mae: 17.8401\n",
            "Epoch 48/100\n",
            "93/93 [==============================] - 1s 4ms/step - loss: 17.1087 - mae: 17.6006\n",
            "Epoch 49/100\n",
            "93/93 [==============================] - 1s 4ms/step - loss: 17.1316 - mae: 17.6224\n",
            "Epoch 50/100\n",
            "93/93 [==============================] - 1s 5ms/step - loss: 17.1039 - mae: 17.5944\n",
            "Epoch 51/100\n",
            "93/93 [==============================] - 1s 4ms/step - loss: 17.1055 - mae: 17.5965\n",
            "Epoch 52/100\n",
            "93/93 [==============================] - 1s 5ms/step - loss: 17.3113 - mae: 17.8035\n",
            "Epoch 53/100\n",
            "93/93 [==============================] - 1s 4ms/step - loss: 17.1500 - mae: 17.6417\n",
            "Epoch 54/100\n",
            "93/93 [==============================] - 1s 4ms/step - loss: 17.1294 - mae: 17.6202\n",
            "Epoch 55/100\n",
            "93/93 [==============================] - 1s 5ms/step - loss: 16.9201 - mae: 17.4122\n",
            "Epoch 56/100\n",
            "93/93 [==============================] - 1s 5ms/step - loss: 17.2971 - mae: 17.7882\n",
            "Epoch 57/100\n",
            "93/93 [==============================] - 1s 5ms/step - loss: 16.8590 - mae: 17.3508\n",
            "Epoch 58/100\n",
            "93/93 [==============================] - 1s 5ms/step - loss: 16.9460 - mae: 17.4366\n",
            "Epoch 59/100\n",
            "93/93 [==============================] - 1s 5ms/step - loss: 17.0538 - mae: 17.5456\n",
            "Epoch 60/100\n",
            "93/93 [==============================] - 1s 5ms/step - loss: 16.9615 - mae: 17.4531\n",
            "Epoch 61/100\n",
            "93/93 [==============================] - 1s 5ms/step - loss: 16.9977 - mae: 17.4895\n",
            "Epoch 62/100\n",
            "93/93 [==============================] - 1s 5ms/step - loss: 17.0723 - mae: 17.5641\n",
            "Epoch 63/100\n",
            "93/93 [==============================] - 1s 5ms/step - loss: 17.0230 - mae: 17.5145\n",
            "Epoch 64/100\n",
            "93/93 [==============================] - 1s 4ms/step - loss: 16.8426 - mae: 17.3332\n",
            "Epoch 65/100\n",
            "93/93 [==============================] - 1s 5ms/step - loss: 16.8181 - mae: 17.3098\n",
            "Epoch 66/100\n",
            "93/93 [==============================] - 1s 4ms/step - loss: 17.0178 - mae: 17.5083\n",
            "Epoch 67/100\n",
            "93/93 [==============================] - 1s 5ms/step - loss: 17.0875 - mae: 17.5781\n",
            "Epoch 68/100\n",
            "93/93 [==============================] - 1s 5ms/step - loss: 17.2324 - mae: 17.7239\n",
            "Epoch 69/100\n",
            "93/93 [==============================] - 1s 4ms/step - loss: 17.0127 - mae: 17.5035\n",
            "Epoch 70/100\n",
            "93/93 [==============================] - 1s 4ms/step - loss: 17.0896 - mae: 17.5807\n",
            "Epoch 71/100\n",
            "93/93 [==============================] - 1s 4ms/step - loss: 16.9935 - mae: 17.4848\n",
            "Epoch 72/100\n",
            "93/93 [==============================] - 1s 5ms/step - loss: 16.8905 - mae: 17.3817\n",
            "Epoch 73/100\n",
            "93/93 [==============================] - 1s 4ms/step - loss: 16.8510 - mae: 17.3429\n",
            "Epoch 74/100\n",
            "93/93 [==============================] - 1s 5ms/step - loss: 16.9040 - mae: 17.3951\n",
            "Epoch 75/100\n",
            "93/93 [==============================] - 1s 5ms/step - loss: 16.8097 - mae: 17.2997\n",
            "Epoch 76/100\n",
            "93/93 [==============================] - 1s 5ms/step - loss: 17.1157 - mae: 17.6069\n",
            "Epoch 77/100\n",
            "93/93 [==============================] - 1s 5ms/step - loss: 16.7636 - mae: 17.2543\n",
            "Epoch 78/100\n",
            "93/93 [==============================] - 1s 4ms/step - loss: 17.0123 - mae: 17.5042\n",
            "Epoch 79/100\n",
            "93/93 [==============================] - 1s 5ms/step - loss: 17.0659 - mae: 17.5573\n",
            "Epoch 80/100\n",
            "93/93 [==============================] - 1s 5ms/step - loss: 16.9028 - mae: 17.3944\n",
            "Epoch 81/100\n",
            "93/93 [==============================] - 1s 5ms/step - loss: 17.2500 - mae: 17.7406\n",
            "Epoch 82/100\n",
            "93/93 [==============================] - 1s 6ms/step - loss: 16.9349 - mae: 17.4265\n",
            "Epoch 83/100\n",
            "93/93 [==============================] - 1s 5ms/step - loss: 16.7915 - mae: 17.2828\n",
            "Epoch 84/100\n",
            "93/93 [==============================] - 1s 5ms/step - loss: 17.0192 - mae: 17.5107\n",
            "Epoch 85/100\n",
            "93/93 [==============================] - 1s 5ms/step - loss: 16.7962 - mae: 17.2892\n",
            "Epoch 86/100\n",
            "93/93 [==============================] - 1s 5ms/step - loss: 16.9688 - mae: 17.4613\n",
            "Epoch 87/100\n",
            "93/93 [==============================] - 1s 5ms/step - loss: 16.9519 - mae: 17.4433\n",
            "Epoch 88/100\n",
            "93/93 [==============================] - 1s 5ms/step - loss: 16.8508 - mae: 17.3432\n",
            "Epoch 89/100\n",
            "93/93 [==============================] - 1s 4ms/step - loss: 16.8352 - mae: 17.3265\n",
            "Epoch 90/100\n",
            "93/93 [==============================] - 1s 5ms/step - loss: 16.8605 - mae: 17.3515\n",
            "Epoch 91/100\n",
            "93/93 [==============================] - 1s 4ms/step - loss: 16.9455 - mae: 17.4362\n",
            "Epoch 92/100\n",
            "93/93 [==============================] - 1s 4ms/step - loss: 16.8456 - mae: 17.3370\n",
            "Epoch 93/100\n",
            "93/93 [==============================] - 1s 5ms/step - loss: 16.7190 - mae: 17.2108\n",
            "Epoch 94/100\n",
            "93/93 [==============================] - 1s 4ms/step - loss: 17.0293 - mae: 17.5211\n",
            "Epoch 95/100\n",
            "93/93 [==============================] - 1s 4ms/step - loss: 16.8381 - mae: 17.3291\n",
            "Epoch 96/100\n",
            "93/93 [==============================] - 1s 4ms/step - loss: 16.8268 - mae: 17.3186\n",
            "Epoch 97/100\n",
            "93/93 [==============================] - 1s 5ms/step - loss: 16.9811 - mae: 17.4712\n",
            "Epoch 98/100\n",
            "93/93 [==============================] - 1s 5ms/step - loss: 16.7794 - mae: 17.2705\n",
            "Epoch 99/100\n",
            "93/93 [==============================] - 1s 4ms/step - loss: 16.8418 - mae: 17.3336\n",
            "Epoch 100/100\n",
            "93/93 [==============================] - 1s 5ms/step - loss: 16.7938 - mae: 17.2832\n"
          ]
        }
      ],
      "source": [
        "# Set the learning rate\n",
        "learning_rate = 2e-5\n",
        "\n",
        "# Set the optimizer \n",
        "optimizer = tf.keras.optimizers.SGD(learning_rate=learning_rate, momentum=0.9)\n",
        "\n",
        "# Set the training parameters\n",
        "model.compile(loss=tf.keras.losses.Huber(),\n",
        "              optimizer=optimizer,\n",
        "              metrics=[\"mae\"])\n",
        "\n",
        "# Train the model\n",
        "history = model.fit(train_set,epochs=100)"
      ]
    },
    {
      "cell_type": "markdown",
      "metadata": {
        "id": "b1iV2t8ibIka"
      },
      "source": [
        "## Model Prediction\n",
        "\n",
        "Now see if the model generates good results. If you used the default parameters of this notebook, you should see the predictions follow the shape of the ground truth with an MAE of around 15. "
      ]
    },
    {
      "cell_type": "code",
      "execution_count": 18,
      "metadata": {
        "id": "djn06Tri2B6_"
      },
      "outputs": [],
      "source": [
        "def model_forecast(model, series, window_size, batch_size):\n",
        "    \"\"\"Uses an input model to generate predictions on data windows\n",
        "\n",
        "    Args:\n",
        "      model (TF Keras Model) - model that accepts data windows\n",
        "      series (array of float) - contains the values of the time series\n",
        "      window_size (int) - the number of time steps to include in the window\n",
        "      batch_size (int) - the batch size\n",
        "\n",
        "    Returns:\n",
        "      forecast (numpy array) - array containing predictions\n",
        "    \"\"\"\n",
        "\n",
        "    # Generate a TF Dataset from the series values\n",
        "    dataset = tf.data.Dataset.from_tensor_slices(series)\n",
        "\n",
        "    # Window the data but only take those with the specified size\n",
        "    dataset = dataset.window(window_size, shift=1, drop_remainder=True)\n",
        "\n",
        "    # Flatten the windows by putting its elements in a single batch\n",
        "    dataset = dataset.flat_map(lambda w: w.batch(window_size))\n",
        "    \n",
        "    # Create batches of windows\n",
        "    dataset = dataset.batch(batch_size).prefetch(1)\n",
        "    \n",
        "    # Get predictions on the entire dataset\n",
        "    forecast = model.predict(dataset)\n",
        "    \n",
        "    return forecast"
      ]
    },
    {
      "cell_type": "code",
      "execution_count": 22,
      "metadata": {
        "id": "GaC6NNMRp0lb",
        "colab": {
          "base_uri": "https://localhost:8080/",
          "height": 426
        },
        "outputId": "fd5745b6-3ed6-43bb-cd0e-d23db50d18af"
      },
      "outputs": [
        {
          "output_type": "stream",
          "name": "stdout",
          "text": [
            "8/8 [==============================] - 0s 15ms/step\n",
            "(235, 1)\n",
            "(235,)\n"
          ]
        },
        {
          "output_type": "display_data",
          "data": {
            "text/plain": [
              "<Figure size 720x432 with 1 Axes>"
            ],
            "image/png": "[encoded data removed]"
          },
          "metadata": {
            "needs_background": "light"
          }
        }
      ],
      "source": [
        "# Reduce the original series\n",
        "forecast_series = series[split_time-window_size:-1]\n",
        "\n",
        "# Use helper function to generate predictions\n",
        "forecast = model_forecast(model, forecast_series, window_size, batch_size)\n",
        "print(forecast.shape)\n",
        "# Drop single dimensional axis\n",
        "results = forecast.squeeze()\n",
        "print(results.shape)\n",
        "# Plot the results\n",
        "plot_series(time_valid, (x_valid, results))"
      ]
    },
    {
      "cell_type": "code",
      "execution_count": 20,
      "metadata": {
        "id": "13XrorC5wQoE",
        "colab": {
          "base_uri": "https://localhost:8080/"
        },
        "outputId": "913eac60-a047-46c5-fbcb-5ba9c293c6ec"
      },
      "outputs": [
        {
          "output_type": "stream",
          "name": "stdout",
          "text": [
            "14.705684\n"
          ]
        }
      ],
      "source": [
        "# Compute the MAE\n",
        "print(tf.keras.metrics.mean_absolute_error(x_valid, results).numpy())"
      ]
    },
    {
      "cell_type": "markdown",
      "metadata": {
        "id": "YqMGN9S5veN2"
      },
      "source": [
        "## Wrap Up\n",
        "\n",
        "In this lab, you built a relatively simple DNN to forecast sunspot numbers for a given month. We encourage you to tweak the parameters or train longer and see the best results you can get. In the next lab, you will build a more complex model and you evaluate if the added complexity translates to better or worse results."
      ]
    }
  ],
  "metadata": {
    "colab": {
      "collapsed_sections": [],
      "provenance": [],
      "include_colab_link": true
    },
    "kernelspec": {
      "display_name": "Python 3",
      "language": "python",
      "name": "python3"
    },
    "language_info": {
      "codemirror_mode": {
        "name": "ipython",
        "version": 3
      },
      "file_extension": ".py",
      "mimetype": "text/x-python",
      "name": "python",
      "nbconvert_exporter": "python",
      "pygments_lexer": "ipython3",
      "version": "3.7.4"
    },
    "gpuClass": "standard"
  },
  "nbformat": 4,
  "nbformat_minor": 0
}