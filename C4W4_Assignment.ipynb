{
  "cells": [
    {
      "cell_type": "markdown",
      "metadata": {
        "id": "view-in-github",
        "colab_type": "text"
      },
      "source": [
        "<a href=\"https://colab.research.google.com/github/alessandrobruni/tensorflow_time_series/blob/main/C4W4_Assignment.ipynb\" target=\"_parent\"><img src=\"https://colab.research.google.com/assets/colab-badge.svg\" alt=\"Open In Colab\"/></a>"
      ]
    },
    {
      "cell_type": "markdown",
      "metadata": {
        "id": "-7LblKi2XoPt"
      },
      "source": [
        "# Week 4: Using real world data\n",
        "\n",
        "Welcome! So far you have worked exclusively with generated data. This time you will be using the [Daily Minimum Temperatures in Melbourne](https://github.com/jbrownlee/Datasets/blob/master/daily-min-temperatures.csv) dataset which contains data of the daily minimum temperatures recorded in Melbourne from 1981 to 1990. In addition to be using Tensorflow's layers for processing sequence data such as Recurrent layers or LSTMs you will also use Convolutional layers to improve the model's performance.\n",
        "\n",
        "Let's get started!"
      ]
    },
    {
      "cell_type": "code",
      "execution_count": null,
      "metadata": {
        "id": "56XEQOGknrAk"
      },
      "outputs": [],
      "source": [
        "import csv\n",
        "import pickle\n",
        "import numpy as np\n",
        "import tensorflow as tf\n",
        "import matplotlib.pyplot as plt\n",
        "from dataclasses import dataclass"
      ]
    },
    {
      "cell_type": "markdown",
      "metadata": {
        "id": "W4JSgPcyXoP3"
      },
      "source": [
        "Begin by looking at the structure of the csv that contains the data:"
      ]
    },
    {
      "cell_type": "code",
      "execution_count": null,
      "metadata": {
        "id": "cNKFFSeoXoP4",
        "outputId": "791ea01b-d924-4b49-f540-41bb7f48c427"
      },
      "outputs": [
        {
          "name": "stdout",
          "output_type": "stream",
          "text": [
            "Header looks like this:\n",
            "\n",
            "\"Date\",\"Temp\"\n",
            "\n",
            "First data point looks like this:\n",
            "\n",
            "\"1981-01-01\",20.7\n",
            "\n",
            "Second data point looks like this:\n",
            "\n",
            "\"1981-01-02\",17.9\n",
            "\n"
          ]
        }
      ],
      "source": [
        "TEMPERATURES_CSV = './data/daily-min-temperatures.csv'\n",
        "\n",
        "with open(TEMPERATURES_CSV, 'r') as csvfile:\n",
        "    print(f\"Header looks like this:\\n\\n{csvfile.readline()}\")    \n",
        "    print(f\"First data point looks like this:\\n\\n{csvfile.readline()}\")\n",
        "    print(f\"Second data point looks like this:\\n\\n{csvfile.readline()}\")"
      ]
    },
    {
      "cell_type": "markdown",
      "metadata": {
        "id": "TSesY5biXoP6"
      },
      "source": [
        "As you can see, each data point is composed of the date and the recorded minimum temperature for that date.\n",
        "\n",
        "\n",
        "In the first exercise you will code a function to read the data from the csv but for now run the next cell to load a helper function to plot the time series."
      ]
    },
    {
      "cell_type": "code",
      "execution_count": null,
      "metadata": {
        "id": "sLl52leVp5wU"
      },
      "outputs": [],
      "source": [
        "def plot_series(time, series, format=\"-\", start=0, end=None):\n",
        "    plt.plot(time[start:end], series[start:end], format)\n",
        "    plt.xlabel(\"Time\")\n",
        "    plt.ylabel(\"Value\")\n",
        "    plt.grid(True)"
      ]
    },
    {
      "cell_type": "markdown",
      "metadata": {
        "id": "AYiysUhEXoP8"
      },
      "source": [
        "## Parsing the raw data\n",
        "Now you need to read the data from the csv file. To do so, complete the `parse_data_from_file` function.\n",
        "\n",
        "A couple of things to note:\n",
        "\n",
        "- You should omit the first line as the file contains headers.\n",
        "- There is no need to save the data points as numpy arrays, regular lists is fine.\n",
        "- To read from csv files use `csv.reader` by passing the appropriate arguments.\n",
        "- `csv.reader` returns an iterable that returns each row in every iteration. So the temperature can be accessed via row[1] and the date can be discarded.\n",
        "- The `times` list should contain every timestep (starting at zero), which is just a sequence of ordered numbers with the same length as the `temperatures` list.\n",
        "- The values of the `temperatures` should be of `float` type. You can use Python's built-in `float` function to ensure this."
      ]
    },
    {
      "cell_type": "code",
      "execution_count": null,
      "metadata": {
        "id": "NcG9r1eClbTh"
      },
      "outputs": [],
      "source": [
        "def parse_data_from_file(filename):\n",
        "    \n",
        "    times = []\n",
        "    temperatures = []\n",
        "    months =[]\n",
        "\n",
        "    with open(filename) as csvfile:\n",
        "        \n",
        "        ### START CODE HERE\n",
        "        \n",
        "        reader = csv.reader(csvfile, delimiter=',')\n",
        "        next(reader)\n",
        "        tm=0\n",
        "          # Append row and sunspot number to lists\n",
        "        for row in reader:\n",
        "            times.append(int(tm))\n",
        "            months.append(row[0])\n",
        "            temperatures.append(float(row[1]))\n",
        "            tm=tm+1\n",
        "\n",
        "        # Convert lists to numpy arrays\n",
        "        time = np.array(times)\n",
        "        series = np.array(temperatures)\n",
        "        ### END CODE HERE\n",
        "            \n",
        "    return times, temperatures, months\n"
      ]
    },
    {
      "cell_type": "markdown",
      "metadata": {
        "id": "O3htjILjXoP_"
      },
      "source": [
        "The next cell will use your function to compute the `times` and `temperatures` and will save these as numpy arrays within the `G` dataclass. This cell will also plot the time series:"
      ]
    },
    {
      "cell_type": "code",
      "execution_count": null,
      "metadata": {
        "id": "hYUfQqvQXoQA",
        "outputId": "2db54578-67b8-4dea-9c43-f1f68b420e5f"
      },
      "outputs": [
        {
          "data": {
            "image/png": "[encoded data removed]",
            "text/plain": [
              "<Figure size 720x432 with 1 Axes>"
            ]
          },
          "metadata": {
            "needs_background": "light"
          },
          "output_type": "display_data"
        },
        {
          "name": "stdout",
          "output_type": "stream",
          "text": [
            "26.3\n",
            "3650\n",
            "anni 9  10.0  2555\n",
            "['1981-01-01', '1981-01-02', '1981-01-03', '1981-01-04', '1981-01-05', '1981-01-06', '1981-01-07', '1981-01-08', '1981-01-09', '1981-01-10', '1981-01-11']\n",
            "['1990-12-20', '1990-12-21', '1990-12-22', '1990-12-23', '1990-12-24', '1990-12-25', '1990-12-26', '1990-12-27', '1990-12-28', '1990-12-29', '1990-12-30', '1990-12-31']\n"
          ]
        }
      ],
      "source": [
        "# Test your function and save all \"global\" variables within the G class (G stands for global)\n",
        "@dataclass\n",
        "class G:\n",
        "    TEMPERATURES_CSV = './data/daily-min-temperatures.csv'\n",
        "    times, temperatures , mensilita = parse_data_from_file(TEMPERATURES_CSV)\n",
        "    TIME = np.array(times)\n",
        "    SERIES = np.array(temperatures)\n",
        "    MESI = mensilita\n",
        "    SPLIT_TIME = 2500\n",
        "    WINDOW_SIZE = 60 #64\n",
        "    BATCH_SIZE = 256\n",
        "    SHUFFLE_BUFFER_SIZE = 1000\n",
        "\n",
        "\n",
        "plt.figure(figsize=(10, 6))\n",
        "plot_series(G.TIME, G.SERIES)\n",
        "plt.show()\n",
        "\n",
        "print(np.max(G.SERIES))\n",
        "print(len(G.TIME))\n",
        "year_campionamento=1990-1981\n",
        "year_giornalieri = len(G.TIME)/365\n",
        "print(f\"anni {year_campionamento}  {year_giornalieri}  {3650-365*3}\")\n",
        "print(G.MESI[:11])\n",
        "print(G.MESI[-12:])"
      ]
    },
    {
      "cell_type": "markdown",
      "metadata": {
        "id": "8OcZVkxBXoQB"
      },
      "source": [
        "**Expected Output:**\n",
        "<div>\n",
        "<img src=\"images/temp-series.png\" width=\"500\"/>\n",
        "</div>"
      ]
    },
    {
      "cell_type": "markdown",
      "metadata": {
        "id": "aMFSY-xjXoQC"
      },
      "source": [
        "## Processing the data\n",
        "\n",
        "Since you already coded the `train_val_split` and `windowed_dataset` functions during past week's assignments, this time they are provided for you:"
      ]
    },
    {
      "cell_type": "code",
      "execution_count": null,
      "metadata": {
        "id": "IuAqa4JuXoQC"
      },
      "outputs": [],
      "source": [
        "def train_val_split(time, series, time_step=G.SPLIT_TIME):\n",
        "\n",
        "    time_train = time[:time_step]\n",
        "    series_train = series[:time_step]\n",
        "    time_valid = time[time_step:]\n",
        "    series_valid = series[time_step:]\n",
        "\n",
        "    return time_train, series_train, time_valid, series_valid\n",
        "\n",
        "\n",
        "# Split the dataset\n",
        "time_train, series_train, time_valid, series_valid = train_val_split(G.TIME, G.SERIES)"
      ]
    },
    {
      "cell_type": "code",
      "execution_count": null,
      "metadata": {
        "id": "lJwUUZscnG38"
      },
      "outputs": [],
      "source": [
        "def windowed_dataset(series, window_size=G.WINDOW_SIZE, batch_size=G.BATCH_SIZE, shuffle_buffer=G.SHUFFLE_BUFFER_SIZE):\n",
        "    ds = tf.data.Dataset.from_tensor_slices(series)\n",
        "    ds = ds.window(window_size + 1, shift=1, drop_remainder=True)\n",
        "    ds = ds.flat_map(lambda w: w.batch(window_size + 1))\n",
        "    ds = ds.shuffle(shuffle_buffer)\n",
        "    ds = ds.map(lambda w: (w[:-1], w[-1]))\n",
        "    ds = ds.batch(batch_size).prefetch(1)\n",
        "    return ds\n",
        "\n",
        "\n",
        "# Apply the transformation to the training set\n",
        "train_set = windowed_dataset(series_train, window_size=G.WINDOW_SIZE, batch_size=G.BATCH_SIZE, shuffle_buffer=G.SHUFFLE_BUFFER_SIZE)"
      ]
    },
    {
      "cell_type": "markdown",
      "metadata": {
        "id": "LalqDMnQXoQE"
      },
      "source": [
        "## Defining the model architecture\n",
        "\n",
        "Now that you have a function that will process the data before it is fed into your neural network for training, it is time to define your layer architecture. Just as in last week's assignment you will do the layer definition and compilation in two separate steps. Begin by completing the `create_uncompiled_model` function below.\n",
        "\n",
        "This is done so you can reuse your model's layers for the learning rate adjusting and the actual training.\n",
        "\n",
        "Hint:\n",
        "\n",
        "- `Lambda` layers are not required.\n",
        "- Use a combination of `Conv1D` and `LSTM` layers followed by `Dense` layers"
      ]
    },
    {
      "cell_type": "code",
      "execution_count": null,
      "metadata": {
        "id": "6XAINQ-iXoQE"
      },
      "outputs": [],
      "source": [
        "def create_uncompiled_model():\n",
        "\n",
        "    ### START CODE HERE\n",
        "    tf.keras.backend.clear_session()   \n",
        "    model = tf.keras.models.Sequential([\n",
        "           tf.keras.layers.Conv1D(filters=60, kernel_size=3,\n",
        "                              strides=1,\n",
        "                              activation=\"relu\",\n",
        "                              padding='causal',\n",
        "                              input_shape=[G.WINDOW_SIZE, 1]),\n",
        "          tf.keras.layers.LSTM(60, return_sequences=True),\n",
        "          tf.keras.layers.LSTM(60),\n",
        "          tf.keras.layers.Dense(30, activation=\"relu\"),\n",
        "          tf.keras.layers.Dense(10, activation=\"relu\"),\n",
        "          tf.keras.layers.Dense(1)\n",
        "        #, tf.keras.layers.Lambda(lambda x: x * 400)       \n",
        "    ]) \n",
        "    \n",
        "    ### END CODE HERE\n",
        "\n",
        "    return model"
      ]
    },
    {
      "cell_type": "code",
      "execution_count": null,
      "metadata": {
        "id": "0dn0qVkZXoQF",
        "outputId": "ee627f56-e45f-49b3-ac63-933095e16963"
      },
      "outputs": [
        {
          "name": "stdout",
          "output_type": "stream",
          "text": [
            "Your current architecture is compatible with the windowed dataset! :)\n"
          ]
        }
      ],
      "source": [
        "# Test your uncompiled model\n",
        "uncompiled_model = create_uncompiled_model()\n",
        "\n",
        "try:\n",
        "    uncompiled_model.predict(train_set)\n",
        "except:\n",
        "    print(\"Your current architecture is incompatible with the windowed dataset, try adjusting it.\")\n",
        "else:\n",
        "    print(\"Your current architecture is compatible with the windowed dataset! :)\")"
      ]
    },
    {
      "cell_type": "markdown",
      "metadata": {
        "id": "wSJ9mbUkXoQF"
      },
      "source": [
        "## Adjusting the learning rate - (Optional Exercise)\n",
        "\n",
        "As you saw in the lecture you can leverage Tensorflow's callbacks to dinamically vary the learning rate during training. This can be helpful to get a better sense of which learning rate better acommodates to the problem at hand.\n",
        "\n",
        "**Notice that this is only changing the learning rate during the training process to give you an idea of what a reasonable learning rate is and should not be confused with selecting the best learning rate, this is known as hyperparameter optimization and it is outside the scope of this course.**\n",
        "\n",
        "For the optimizers you can try out:\n",
        "\n",
        "- tf.keras.optimizers.Adam\n",
        "- tf.keras.optimizers.SGD with a momentum of 0.9"
      ]
    },
    {
      "cell_type": "code",
      "execution_count": null,
      "metadata": {
        "id": "C_mXQ3fMXoQG"
      },
      "outputs": [],
      "source": [
        "def adjust_learning_rate(dataset):\n",
        "    \n",
        "    model = create_uncompiled_model()\n",
        "    \n",
        "    lr_schedule = tf.keras.callbacks.LearningRateScheduler(lambda epoch: 1e-4 * 10**(epoch / 20))\n",
        "    \n",
        "    ### START CODE HERE\n",
        "    \n",
        "    # Select your optimizer\n",
        "    optimizer =  tf.keras.optimizers.SGD(momentum=0.9)\n",
        "    \n",
        "    # Compile the model passing in the appropriate loss\n",
        "    model.compile(loss=tf.keras.losses.Huber(),\n",
        "                  optimizer=optimizer, \n",
        "                  metrics=[\"mae\"]) \n",
        "    \n",
        "    ### END CODE HERE\n",
        "    \n",
        "    history = model.fit(dataset, epochs=100, callbacks=[lr_schedule])\n",
        "    \n",
        "    return history"
      ]
    },
    {
      "cell_type": "code",
      "execution_count": null,
      "metadata": {
        "id": "w4K6bNrGXoQG",
        "outputId": "f2d07c77-6bd5-4e13-cf23-4b3e085c680d"
      },
      "outputs": [
        {
          "name": "stdout",
          "output_type": "stream",
          "text": [
            "Epoch 1/100\n",
            "10/10 [==============================] - 6s 313ms/step - loss: 10.0187 - mae: 10.5174 - lr: 1.0000e-04\n",
            "Epoch 2/100\n",
            "10/10 [==============================] - 3s 311ms/step - loss: 9.8884 - mae: 10.3871 - lr: 1.1220e-04\n",
            "Epoch 3/100\n",
            "10/10 [==============================] - 3s 300ms/step - loss: 9.7246 - mae: 10.2232 - lr: 1.2589e-04\n",
            "Epoch 4/100\n",
            "10/10 [==============================] - 3s 301ms/step - loss: 9.5422 - mae: 10.0407 - lr: 1.4125e-04\n",
            "Epoch 5/100\n",
            "10/10 [==============================] - 3s 291ms/step - loss: 9.3330 - mae: 9.8314 - lr: 1.5849e-04\n",
            "Epoch 6/100\n",
            "10/10 [==============================] - 3s 301ms/step - loss: 9.0838 - mae: 9.5822 - lr: 1.7783e-04\n",
            "Epoch 7/100\n",
            "10/10 [==============================] - 3s 311ms/step - loss: 8.7804 - mae: 9.2785 - lr: 1.9953e-04\n",
            "Epoch 8/100\n",
            "10/10 [==============================] - 3s 301ms/step - loss: 8.3941 - mae: 8.8922 - lr: 2.2387e-04\n",
            "Epoch 9/100\n",
            "10/10 [==============================] - 3s 301ms/step - loss: 7.8767 - mae: 8.3734 - lr: 2.5119e-04\n",
            "Epoch 10/100\n",
            "10/10 [==============================] - 3s 301ms/step - loss: 7.1502 - mae: 7.6460 - lr: 2.8184e-04\n",
            "Epoch 11/100\n",
            "10/10 [==============================] - 3s 299ms/step - loss: 6.0981 - mae: 6.5884 - lr: 3.1623e-04\n",
            "Epoch 12/100\n",
            "10/10 [==============================] - 3s 301ms/step - loss: 4.6164 - mae: 5.0984 - lr: 3.5481e-04\n",
            "Epoch 13/100\n",
            "10/10 [==============================] - 3s 291ms/step - loss: 3.0633 - mae: 3.5331 - lr: 3.9811e-04\n",
            "Epoch 14/100\n",
            "10/10 [==============================] - 3s 291ms/step - loss: 2.5894 - mae: 3.0530 - lr: 4.4668e-04\n",
            "Epoch 15/100\n",
            "10/10 [==============================] - 3s 291ms/step - loss: 2.5867 - mae: 3.0542 - lr: 5.0119e-04\n",
            "Epoch 16/100\n",
            "10/10 [==============================] - 3s 292ms/step - loss: 2.4722 - mae: 2.9326 - lr: 5.6234e-04\n",
            "Epoch 17/100\n",
            "10/10 [==============================] - 3s 289ms/step - loss: 2.4120 - mae: 2.8732 - lr: 6.3096e-04\n",
            "Epoch 18/100\n",
            "10/10 [==============================] - 3s 289ms/step - loss: 2.2911 - mae: 2.7508 - lr: 7.0795e-04\n",
            "Epoch 19/100\n",
            "10/10 [==============================] - 3s 289ms/step - loss: 2.0944 - mae: 2.5505 - lr: 7.9433e-04\n",
            "Epoch 20/100\n",
            "10/10 [==============================] - 3s 300ms/step - loss: 1.9548 - mae: 2.4091 - lr: 8.9125e-04\n",
            "Epoch 21/100\n",
            "10/10 [==============================] - 3s 320ms/step - loss: 1.9003 - mae: 2.3541 - lr: 0.0010\n",
            "Epoch 22/100\n",
            "10/10 [==============================] - 3s 310ms/step - loss: 1.8618 - mae: 2.3147 - lr: 0.0011\n",
            "Epoch 23/100\n",
            "10/10 [==============================] - 3s 301ms/step - loss: 1.8372 - mae: 2.2907 - lr: 0.0013\n",
            "Epoch 24/100\n",
            "10/10 [==============================] - 3s 310ms/step - loss: 1.8016 - mae: 2.2551 - lr: 0.0014\n",
            "Epoch 25/100\n",
            "10/10 [==============================] - 3s 301ms/step - loss: 1.7477 - mae: 2.1988 - lr: 0.0016\n",
            "Epoch 26/100\n",
            "10/10 [==============================] - 3s 300ms/step - loss: 1.7360 - mae: 2.1876 - lr: 0.0018\n",
            "Epoch 27/100\n",
            "10/10 [==============================] - 3s 301ms/step - loss: 1.7343 - mae: 2.1829 - lr: 0.0020\n",
            "Epoch 28/100\n",
            "10/10 [==============================] - 3s 300ms/step - loss: 1.7124 - mae: 2.1616 - lr: 0.0022\n",
            "Epoch 29/100\n",
            "10/10 [==============================] - 3s 302ms/step - loss: 1.7606 - mae: 2.2112 - lr: 0.0025\n",
            "Epoch 30/100\n",
            "10/10 [==============================] - 3s 301ms/step - loss: 1.6953 - mae: 2.1455 - lr: 0.0028\n",
            "Epoch 31/100\n",
            "10/10 [==============================] - 3s 300ms/step - loss: 1.6866 - mae: 2.1366 - lr: 0.0032\n",
            "Epoch 32/100\n",
            "10/10 [==============================] - 3s 300ms/step - loss: 1.6924 - mae: 2.1405 - lr: 0.0035\n",
            "Epoch 33/100\n",
            "10/10 [==============================] - 3s 291ms/step - loss: 1.8445 - mae: 2.3006 - lr: 0.0040\n",
            "Epoch 34/100\n",
            "10/10 [==============================] - 3s 310ms/step - loss: 1.7909 - mae: 2.2439 - lr: 0.0045\n",
            "Epoch 35/100\n",
            "10/10 [==============================] - 3s 312ms/step - loss: 1.6463 - mae: 2.0941 - lr: 0.0050\n",
            "Epoch 36/100\n",
            "10/10 [==============================] - 3s 302ms/step - loss: 1.7348 - mae: 2.1853 - lr: 0.0056\n",
            "Epoch 37/100\n",
            "10/10 [==============================] - 3s 312ms/step - loss: 1.8006 - mae: 2.2551 - lr: 0.0063\n",
            "Epoch 38/100\n",
            "10/10 [==============================] - 3s 300ms/step - loss: 1.9340 - mae: 2.3887 - lr: 0.0071\n",
            "Epoch 39/100\n",
            "10/10 [==============================] - 3s 301ms/step - loss: 1.6349 - mae: 2.0814 - lr: 0.0079\n",
            "Epoch 40/100\n",
            "10/10 [==============================] - 3s 291ms/step - loss: 1.7367 - mae: 2.1890 - lr: 0.0089\n",
            "Epoch 41/100\n",
            "10/10 [==============================] - 3s 302ms/step - loss: 1.9607 - mae: 2.4154 - lr: 0.0100\n",
            "Epoch 42/100\n",
            "10/10 [==============================] - 3s 301ms/step - loss: 1.6340 - mae: 2.0800 - lr: 0.0112\n",
            "Epoch 43/100\n",
            "10/10 [==============================] - 3s 301ms/step - loss: 1.6207 - mae: 2.0657 - lr: 0.0126\n",
            "Epoch 44/100\n",
            "10/10 [==============================] - 3s 310ms/step - loss: 1.5842 - mae: 2.0312 - lr: 0.0141\n",
            "Epoch 45/100\n",
            "10/10 [==============================] - 3s 311ms/step - loss: 1.6759 - mae: 2.1239 - lr: 0.0158\n",
            "Epoch 46/100\n",
            "10/10 [==============================] - 3s 309ms/step - loss: 1.9577 - mae: 2.4133 - lr: 0.0178\n",
            "Epoch 47/100\n",
            "10/10 [==============================] - 3s 300ms/step - loss: 1.9514 - mae: 2.4032 - lr: 0.0200\n",
            "Epoch 48/100\n",
            "10/10 [==============================] - 3s 301ms/step - loss: 1.8758 - mae: 2.3300 - lr: 0.0224\n",
            "Epoch 49/100\n",
            "10/10 [==============================] - 3s 301ms/step - loss: 2.3244 - mae: 2.7890 - lr: 0.0251\n",
            "Epoch 50/100\n",
            "10/10 [==============================] - 3s 299ms/step - loss: 2.3810 - mae: 2.8376 - lr: 0.0282\n",
            "Epoch 51/100\n",
            "10/10 [==============================] - 3s 301ms/step - loss: 2.4077 - mae: 2.8701 - lr: 0.0316\n",
            "Epoch 52/100\n",
            "10/10 [==============================] - 3s 300ms/step - loss: 2.0778 - mae: 2.5342 - lr: 0.0355\n",
            "Epoch 53/100\n",
            "10/10 [==============================] - 3s 301ms/step - loss: 1.9392 - mae: 2.3868 - lr: 0.0398\n",
            "Epoch 54/100\n",
            "10/10 [==============================] - 3s 301ms/step - loss: 2.3394 - mae: 2.8009 - lr: 0.0447\n",
            "Epoch 55/100\n",
            "10/10 [==============================] - 3s 291ms/step - loss: 2.2806 - mae: 2.7408 - lr: 0.0501\n",
            "Epoch 56/100\n",
            "10/10 [==============================] - 3s 302ms/step - loss: 2.4043 - mae: 2.8745 - lr: 0.0562\n",
            "Epoch 57/100\n",
            "10/10 [==============================] - 3s 311ms/step - loss: 2.4061 - mae: 2.8669 - lr: 0.0631\n",
            "Epoch 58/100\n",
            "10/10 [==============================] - 3s 301ms/step - loss: 2.0952 - mae: 2.5499 - lr: 0.0708\n",
            "Epoch 59/100\n",
            "10/10 [==============================] - 3s 298ms/step - loss: 2.1216 - mae: 2.5750 - lr: 0.0794\n",
            "Epoch 60/100\n",
            "10/10 [==============================] - 3s 290ms/step - loss: 2.9738 - mae: 3.4426 - lr: 0.0891\n",
            "Epoch 61/100\n",
            "10/10 [==============================] - 3s 311ms/step - loss: 2.7475 - mae: 3.2144 - lr: 0.1000\n",
            "Epoch 62/100\n",
            "10/10 [==============================] - 3s 301ms/step - loss: 2.6722 - mae: 3.1410 - lr: 0.1122\n",
            "Epoch 63/100\n",
            "10/10 [==============================] - 3s 299ms/step - loss: 2.5411 - mae: 3.0037 - lr: 0.1259\n",
            "Epoch 64/100\n",
            "10/10 [==============================] - 3s 310ms/step - loss: 3.4313 - mae: 3.9047 - lr: 0.1413\n",
            "Epoch 65/100\n",
            "10/10 [==============================] - 3s 312ms/step - loss: 2.7100 - mae: 3.1763 - lr: 0.1585\n",
            "Epoch 66/100\n",
            "10/10 [==============================] - 3s 322ms/step - loss: 2.9958 - mae: 3.4641 - lr: 0.1778\n",
            "Epoch 67/100\n",
            "10/10 [==============================] - 3s 312ms/step - loss: 2.7226 - mae: 3.1904 - lr: 0.1995\n",
            "Epoch 68/100\n",
            "10/10 [==============================] - 3s 301ms/step - loss: 2.7222 - mae: 3.1886 - lr: 0.2239\n",
            "Epoch 69/100\n",
            "10/10 [==============================] - 3s 302ms/step - loss: 2.7326 - mae: 3.1998 - lr: 0.2512\n",
            "Epoch 70/100\n",
            "10/10 [==============================] - 3s 301ms/step - loss: 2.7416 - mae: 3.2072 - lr: 0.2818\n",
            "Epoch 71/100\n",
            "10/10 [==============================] - 3s 301ms/step - loss: 2.8003 - mae: 3.2682 - lr: 0.3162\n",
            "Epoch 72/100\n",
            "10/10 [==============================] - 3s 301ms/step - loss: 2.7556 - mae: 3.2220 - lr: 0.3548\n",
            "Epoch 73/100\n",
            "10/10 [==============================] - 3s 299ms/step - loss: 2.7448 - mae: 3.2119 - lr: 0.3981\n",
            "Epoch 74/100\n",
            "10/10 [==============================] - 3s 300ms/step - loss: 2.7507 - mae: 3.2152 - lr: 0.4467\n",
            "Epoch 75/100\n",
            "10/10 [==============================] - 3s 301ms/step - loss: 2.7579 - mae: 3.2253 - lr: 0.5012\n",
            "Epoch 76/100\n",
            "10/10 [==============================] - 3s 301ms/step - loss: 2.7238 - mae: 3.1903 - lr: 0.5623\n",
            "Epoch 77/100\n",
            "10/10 [==============================] - 3s 291ms/step - loss: 2.7819 - mae: 3.2480 - lr: 0.6310\n",
            "Epoch 78/100\n",
            "10/10 [==============================] - 3s 302ms/step - loss: 2.7390 - mae: 3.2073 - lr: 0.7079\n",
            "Epoch 79/100\n",
            "10/10 [==============================] - 3s 299ms/step - loss: 2.7424 - mae: 3.2102 - lr: 0.7943\n",
            "Epoch 80/100\n",
            "10/10 [==============================] - 3s 300ms/step - loss: 2.7271 - mae: 3.1941 - lr: 0.8913\n",
            "Epoch 81/100\n",
            "10/10 [==============================] - 3s 310ms/step - loss: 2.7296 - mae: 3.1963 - lr: 1.0000\n",
            "Epoch 82/100\n",
            "10/10 [==============================] - 3s 301ms/step - loss: 2.7303 - mae: 3.1958 - lr: 1.1220\n",
            "Epoch 83/100\n",
            "10/10 [==============================] - 3s 322ms/step - loss: 2.7168 - mae: 3.1834 - lr: 1.2589\n",
            "Epoch 84/100\n",
            "10/10 [==============================] - 3s 324ms/step - loss: 2.7228 - mae: 3.1887 - lr: 1.4125\n",
            "Epoch 85/100\n",
            "10/10 [==============================] - 3s 315ms/step - loss: 2.7240 - mae: 3.1898 - lr: 1.5849\n",
            "Epoch 86/100\n",
            "10/10 [==============================] - 4s 326ms/step - loss: 2.7329 - mae: 3.1992 - lr: 1.7783\n",
            "Epoch 87/100\n",
            "10/10 [==============================] - 4s 326ms/step - loss: 2.7652 - mae: 3.2331 - lr: 1.9953\n",
            "Epoch 88/100\n",
            "10/10 [==============================] - 3s 322ms/step - loss: 2.7575 - mae: 3.2265 - lr: 2.2387\n",
            "Epoch 89/100\n",
            "10/10 [==============================] - 3s 314ms/step - loss: 2.7497 - mae: 3.2190 - lr: 2.5119\n",
            "Epoch 90/100\n",
            "10/10 [==============================] - 3s 322ms/step - loss: 2.7391 - mae: 3.2057 - lr: 2.8184\n",
            "Epoch 91/100\n",
            "10/10 [==============================] - 3s 331ms/step - loss: 2.7212 - mae: 3.1876 - lr: 3.1623\n",
            "Epoch 92/100\n",
            "10/10 [==============================] - 3s 314ms/step - loss: 2.7345 - mae: 3.2033 - lr: 3.5481\n",
            "Epoch 93/100\n",
            "10/10 [==============================] - 4s 333ms/step - loss: 2.7491 - mae: 3.2130 - lr: 3.9811\n",
            "Epoch 94/100\n",
            "10/10 [==============================] - 3s 324ms/step - loss: 2.7408 - mae: 3.2081 - lr: 4.4668\n",
            "Epoch 95/100\n",
            "10/10 [==============================] - 3s 323ms/step - loss: 2.7409 - mae: 3.2075 - lr: 5.0119\n",
            "Epoch 96/100\n",
            "10/10 [==============================] - 4s 324ms/step - loss: 2.7847 - mae: 3.2523 - lr: 5.6234\n",
            "Epoch 97/100\n",
            "10/10 [==============================] - 3s 323ms/step - loss: 2.7378 - mae: 3.2060 - lr: 6.3096\n",
            "Epoch 98/100\n",
            "10/10 [==============================] - 3s 323ms/step - loss: 2.7320 - mae: 3.1988 - lr: 7.0795\n",
            "Epoch 99/100\n",
            "10/10 [==============================] - 3s 331ms/step - loss: 2.7286 - mae: 3.1948 - lr: 7.9433\n",
            "Epoch 100/100\n",
            "10/10 [==============================] - 3s 324ms/step - loss: 2.7660 - mae: 3.2296 - lr: 8.9125\n"
          ]
        }
      ],
      "source": [
        "# Run the training with dynamic LR\n",
        "lr_history = adjust_learning_rate(train_set)"
      ]
    },
    {
      "cell_type": "code",
      "execution_count": null,
      "metadata": {
        "colab": {
          "base_uri": "https://localhost:8080/",
          "height": 290
        },
        "id": "vVcKmg7Q_7rD",
        "outputId": "27cf16ae-eb85-47c3-fc86-18e72e528619"
      },
      "outputs": [
        {
          "data": {
            "text/plain": [
              "(1e-08, 10.0, 0.0, 10.0)"
            ]
          },
          "execution_count": 48,
          "metadata": {},
          "output_type": "execute_result"
        },
        {
          "data": {
            "image/png": "[encoded data removed]",
            "text/plain": [
              "<Figure size 432x288 with 1 Axes>"
            ]
          },
          "metadata": {
            "needs_background": "light"
          },
          "output_type": "display_data"
        }
      ],
      "source": [
        "plt.semilogx(lr_history.history[\"lr\"], lr_history.history[\"loss\"])\n",
        "plt.axis([1e-8, 10, 0, 10])"
      ]
    },
    {
      "cell_type": "markdown",
      "metadata": {
        "id": "Nr_lXHVpXoQI"
      },
      "source": [
        "## Compiling the model\n",
        "Now that you have trained the model while varying the learning rate, it is time to do the actual training that will be used to forecast the time series. For this complete the `create_model` function below.\n",
        "\n",
        "Notice that you are reusing the architecture you defined in the `create_uncompiled_model` earlier. Now you only need to compile this model using the appropriate loss, optimizer (and learning rate).\n",
        "\n",
        "Hints:\n",
        "\n",
        "- The training should be really quick so if you notice that each epoch is taking more than a few seconds, consider trying a different architecture.\n",
        "\n",
        "\n",
        "- If after the first epoch you get an output like this: loss: nan - mae: nan it is very likely that your network is suffering from exploding gradients. This is a common problem if you used SGD as optimizer and set a learning rate that is too high. If you encounter this problem consider lowering the learning rate or using Adam with the default learning rate."
      ]
    },
    {
      "cell_type": "code",
      "execution_count": null,
      "metadata": {
        "id": "z3XqFUlKXoQJ"
      },
      "outputs": [],
      "source": [
        "def create_model():\n",
        "\n",
        "   # tf.keras.backend.clear_session()\n",
        "    \n",
        "    model = create_uncompiled_model()\n",
        "\n",
        "    ### START CODE HERE\n",
        "    learning_rate = 1e-3\n",
        "    \n",
        "    optimizer = tf.keras.optimizers.SGD(learning_rate=learning_rate, momentum=0.9)   \n",
        "    \n",
        "    model.compile(loss=tf.keras.losses.Huber(),\n",
        "                  optimizer=optimizer,\n",
        "                  metrics=[\"mae\"])  \n",
        "    \n",
        "\n",
        "    ### END CODE HERE\n",
        "\n",
        "    return model"
      ]
    },
    {
      "cell_type": "code",
      "execution_count": null,
      "metadata": {
        "id": "y-CyRCbWXoQK",
        "outputId": "2be3eb26-8514-484a-9186-531247dc1ace"
      },
      "outputs": [
        {
          "name": "stdout",
          "output_type": "stream",
          "text": [
            "Epoch 1/50\n",
            "10/10 [==============================] - 6s 289ms/step - loss: 10.2435 - mae: 10.7426\n",
            "Epoch 2/50\n",
            "10/10 [==============================] - 3s 277ms/step - loss: 9.9205 - mae: 10.4192\n",
            "Epoch 3/50\n",
            "10/10 [==============================] - 3s 271ms/step - loss: 9.5181 - mae: 10.0165\n",
            "Epoch 4/50\n",
            "10/10 [==============================] - 3s 277ms/step - loss: 8.8447 - mae: 9.3427\n",
            "Epoch 5/50\n",
            "10/10 [==============================] - 3s 279ms/step - loss: 7.5302 - mae: 8.0257\n",
            "Epoch 6/50\n",
            "10/10 [==============================] - 3s 277ms/step - loss: 4.8248 - mae: 5.3075\n",
            "Epoch 7/50\n",
            "10/10 [==============================] - 3s 278ms/step - loss: 2.8134 - mae: 3.2793\n",
            "Epoch 8/50\n",
            "10/10 [==============================] - 3s 280ms/step - loss: 2.6789 - mae: 3.1449\n",
            "Epoch 9/50\n",
            "10/10 [==============================] - 3s 278ms/step - loss: 2.5639 - mae: 3.0268\n",
            "Epoch 10/50\n",
            "10/10 [==============================] - 3s 279ms/step - loss: 2.4411 - mae: 2.9028\n",
            "Epoch 11/50\n",
            "10/10 [==============================] - 3s 280ms/step - loss: 2.2887 - mae: 2.7482\n",
            "Epoch 12/50\n",
            "10/10 [==============================] - 3s 280ms/step - loss: 2.0571 - mae: 2.5116\n",
            "Epoch 13/50\n",
            "10/10 [==============================] - 3s 280ms/step - loss: 2.1622 - mae: 2.6171\n",
            "Epoch 14/50\n",
            "10/10 [==============================] - 3s 278ms/step - loss: 1.9853 - mae: 2.4358\n",
            "Epoch 15/50\n",
            "10/10 [==============================] - 3s 278ms/step - loss: 1.8514 - mae: 2.3030\n",
            "Epoch 16/50\n",
            "10/10 [==============================] - 3s 278ms/step - loss: 1.8138 - mae: 2.2650\n",
            "Epoch 17/50\n",
            "10/10 [==============================] - 3s 278ms/step - loss: 1.8358 - mae: 2.2880\n",
            "Epoch 18/50\n",
            "10/10 [==============================] - 3s 279ms/step - loss: 1.7745 - mae: 2.2276\n",
            "Epoch 19/50\n",
            "10/10 [==============================] - 3s 279ms/step - loss: 1.7345 - mae: 2.1841\n",
            "Epoch 20/50\n",
            "10/10 [==============================] - 3s 289ms/step - loss: 1.7392 - mae: 2.1881\n",
            "Epoch 21/50\n",
            "10/10 [==============================] - 3s 287ms/step - loss: 1.7278 - mae: 2.1791\n",
            "Epoch 22/50\n",
            "10/10 [==============================] - 3s 292ms/step - loss: 1.7045 - mae: 2.1534\n",
            "Epoch 23/50\n",
            "10/10 [==============================] - 3s 298ms/step - loss: 1.7411 - mae: 2.1915\n",
            "Epoch 24/50\n",
            "10/10 [==============================] - 3s 292ms/step - loss: 1.7025 - mae: 2.1522\n",
            "Epoch 25/50\n",
            "10/10 [==============================] - 3s 289ms/step - loss: 1.7008 - mae: 2.1500\n",
            "Epoch 26/50\n",
            "10/10 [==============================] - 3s 299ms/step - loss: 1.6833 - mae: 2.1345\n",
            "Epoch 27/50\n",
            "10/10 [==============================] - 3s 281ms/step - loss: 1.7122 - mae: 2.1614\n",
            "Epoch 28/50\n",
            "10/10 [==============================] - 3s 281ms/step - loss: 1.7012 - mae: 2.1509\n",
            "Epoch 29/50\n",
            "10/10 [==============================] - 3s 281ms/step - loss: 1.6586 - mae: 2.1064\n",
            "Epoch 30/50\n",
            "10/10 [==============================] - 3s 289ms/step - loss: 1.6672 - mae: 2.1169\n",
            "Epoch 31/50\n",
            "10/10 [==============================] - 3s 288ms/step - loss: 1.6466 - mae: 2.0944\n",
            "Epoch 32/50\n",
            "10/10 [==============================] - 3s 290ms/step - loss: 1.6622 - mae: 2.1124\n",
            "Epoch 33/50\n",
            "10/10 [==============================] - 3s 280ms/step - loss: 1.6292 - mae: 2.0769\n",
            "Epoch 34/50\n",
            "10/10 [==============================] - 3s 279ms/step - loss: 1.6174 - mae: 2.0675\n",
            "Epoch 35/50\n",
            "10/10 [==============================] - 3s 277ms/step - loss: 1.6074 - mae: 2.0536\n",
            "Epoch 36/50\n",
            "10/10 [==============================] - 3s 269ms/step - loss: 1.6101 - mae: 2.0583\n",
            "Epoch 37/50\n",
            "10/10 [==============================] - 3s 278ms/step - loss: 1.5800 - mae: 2.0242\n",
            "Epoch 38/50\n",
            "10/10 [==============================] - 3s 280ms/step - loss: 1.5817 - mae: 2.0282\n",
            "Epoch 39/50\n",
            "10/10 [==============================] - 3s 279ms/step - loss: 1.5770 - mae: 2.0229\n",
            "Epoch 40/50\n",
            "10/10 [==============================] - 3s 279ms/step - loss: 1.5855 - mae: 2.0292\n",
            "Epoch 41/50\n",
            "10/10 [==============================] - 3s 279ms/step - loss: 1.6070 - mae: 2.0525\n",
            "Epoch 42/50\n",
            "10/10 [==============================] - 3s 278ms/step - loss: 1.5512 - mae: 1.9953\n",
            "Epoch 43/50\n",
            "10/10 [==============================] - 3s 270ms/step - loss: 1.5609 - mae: 2.0037\n",
            "Epoch 44/50\n",
            "10/10 [==============================] - 3s 277ms/step - loss: 1.5399 - mae: 1.9824\n",
            "Epoch 45/50\n",
            "10/10 [==============================] - 3s 280ms/step - loss: 1.5519 - mae: 1.9937\n",
            "Epoch 46/50\n",
            "10/10 [==============================] - 3s 279ms/step - loss: 1.5600 - mae: 2.0051\n",
            "Epoch 47/50\n",
            "10/10 [==============================] - 3s 287ms/step - loss: 1.5579 - mae: 2.0011\n",
            "Epoch 48/50\n",
            "10/10 [==============================] - 3s 279ms/step - loss: 1.5816 - mae: 2.0316\n",
            "Epoch 49/50\n",
            "10/10 [==============================] - 3s 277ms/step - loss: 1.5795 - mae: 2.0241\n",
            "Epoch 50/50\n",
            "10/10 [==============================] - 3s 270ms/step - loss: 1.5329 - mae: 1.9745\n"
          ]
        }
      ],
      "source": [
        "# Save an instance of the model\n",
        "model = create_model()\n",
        "\n",
        "# Train it\n",
        "history = model.fit(train_set, epochs=50)"
      ]
    },
    {
      "cell_type": "markdown",
      "metadata": {
        "id": "CtCj_4XKXoQK"
      },
      "source": [
        "## Evaluating the forecast\n",
        "\n",
        "Now it is time to evaluate the performance of the forecast. For this you can use the `compute_metrics` function that you coded in a previous assignment:"
      ]
    },
    {
      "cell_type": "code",
      "execution_count": null,
      "metadata": {
        "id": "K8s6RjVaXoQK"
      },
      "outputs": [],
      "source": [
        "def compute_metrics(true_series, forecast):\n",
        "    \n",
        "    mse = tf.keras.metrics.mean_squared_error(true_series, forecast).numpy()\n",
        "    mae = tf.keras.metrics.mean_absolute_error(true_series, forecast).numpy()\n",
        "\n",
        "    return mse, mae"
      ]
    },
    {
      "cell_type": "markdown",
      "metadata": {
        "id": "Q4kqdCjaXoQL"
      },
      "source": [
        "At this point only the model that will perform the forecast is ready but you still need to compute the actual forecast.\n",
        "\n"
      ]
    },
    {
      "cell_type": "markdown",
      "metadata": {
        "id": "YMNIWUq0XoQL"
      },
      "source": [
        "## Faster model forecasts\n",
        "\n",
        "In the previous week you saw a faster approach compared to using a for loop to compute the forecasts for every point in the sequence. Remember that this faster approach uses batches of data. \n",
        "\n",
        "The code to implement this is provided in the `model_forecast` below. Notice that the code is very similar to the one in the `windowed_dataset` function with the differences that:\n",
        "- The dataset is windowed using `window_size` rather than `window_size + 1`\n",
        "- No shuffle should be used\n",
        "- No need to split the data into features and labels\n",
        "- A model is used to predict batches of the dataset"
      ]
    },
    {
      "cell_type": "code",
      "execution_count": null,
      "metadata": {
        "id": "4XwGrf-A_wF0"
      },
      "outputs": [],
      "source": [
        "def model_forecast(model, series, window_size):\n",
        "    ds = tf.data.Dataset.from_tensor_slices(series)\n",
        "    ds = ds.window(window_size, shift=1, drop_remainder=True)\n",
        "    ds = ds.flat_map(lambda w: w.batch(window_size))\n",
        "    ds = ds.batch(32).prefetch(1)\n",
        "    forecast = model.predict(ds)\n",
        "    \n",
        "    print(f\" before {forecast.shape} \")\n",
        "    forec = forecast.squeeze()\n",
        "    print(f\" before {forec.shape} \")    \n",
        "    return forec"
      ]
    },
    {
      "cell_type": "markdown",
      "metadata": {
        "id": "dsOzgTt3XoQM"
      },
      "source": [
        "Now compute the actual forecast:\n",
        "\n",
        "**Note:** Don't modify the cell below. \n",
        "\n",
        "The grader uses the same slicing to get the forecast so if you change the cell below you risk having issues when submitting your model for grading."
      ]
    },
    {
      "cell_type": "code",
      "execution_count": null,
      "metadata": {
        "colab": {
          "base_uri": "https://localhost:8080/",
          "height": 389
        },
        "id": "PrktQX3hKYex",
        "outputId": "1914662d-6bdd-4e17-8697-8f5a29e89b87"
      },
      "outputs": [
        {
          "name": "stdout",
          "output_type": "stream",
          "text": [
            " before (3591, 1) \n",
            " before (3591,) \n"
          ]
        },
        {
          "data": {
            "image/png": "[encoded data removed]",
            "text/plain": [
              "<Figure size 720x432 with 1 Axes>"
            ]
          },
          "metadata": {
            "needs_background": "light"
          },
          "output_type": "display_data"
        }
      ],
      "source": [
        "# Compute the forecast for all the series\n",
        "rnn_forecast = model_forecast(model, G.SERIES, G.WINDOW_SIZE).squeeze()\n",
        "\n",
        "# Slice the forecast to get only the predictions for the validation set\n",
        "rnn_forecast = rnn_forecast[G.SPLIT_TIME - G.WINDOW_SIZE:-1]\n",
        "\n",
        "# Plot the forecast\n",
        "plt.figure(figsize=(10, 6))\n",
        "plot_series(time_valid, series_valid)\n",
        "plot_series(time_valid, rnn_forecast)"
      ]
    },
    {
      "cell_type": "code",
      "execution_count": null,
      "metadata": {
        "id": "6iFqemriXoQN",
        "outputId": "26dfda70-bf78-4699-c5ba-e7e34275c710"
      },
      "outputs": [
        {
          "name": "stdout",
          "output_type": "stream",
          "text": [
            "mse: 5.55, mae: 1.83 for forecast\n"
          ]
        }
      ],
      "source": [
        "mse, mae = compute_metrics(series_valid, rnn_forecast)\n",
        "\n",
        "print(f\"mse: {mse:.2f}, mae: {mae:.2f} for forecast\")"
      ]
    },
    {
      "cell_type": "markdown",
      "metadata": {
        "id": "dOm61kj3XoQN"
      },
      "source": [
        "**To pass this assignment your forecast should achieve a MSE of 6 or less and a MAE of 2 or less.**\n",
        "\n",
        "- If your forecast didn't achieve this threshold try re-training your model with a different architecture (you will need to re-run both `create_uncompiled_model` and `create_model` functions) or tweaking the optimizer's parameters.\n",
        "\n",
        "\n",
        "- If your forecast did achieve this threshold run the following cell to save the model in a HDF5 file which will be used for grading and after doing so, submit your assigment for grading.\n",
        "\n",
        "\n",
        "- This environment includes a dummy SavedModel directory which contains a dummy model trained for one epoch. **To replace this file with your actual model you need to run the next cell before submitting for grading.**"
      ]
    },
    {
      "cell_type": "code",
      "execution_count": null,
      "metadata": {
        "id": "_iXY2tRYXoQN",
        "outputId": "254bd6f3-d8b7-4783-e4e3-d65fe5a2a162"
      },
      "outputs": [
        {
          "name": "stderr",
          "output_type": "stream",
          "text": [
            "WARNING:absl:Found untraced functions such as lstm_cell_layer_call_fn, lstm_cell_layer_call_and_return_conditional_losses, lstm_cell_1_layer_call_fn, lstm_cell_1_layer_call_and_return_conditional_losses, lstm_cell_layer_call_fn while saving (showing 5 of 10). These functions will not be directly callable after loading.\n"
          ]
        },
        {
          "name": "stdout",
          "output_type": "stream",
          "text": [
            "INFO:tensorflow:Assets written to: saved_model/my_model/assets\n"
          ]
        },
        {
          "name": "stderr",
          "output_type": "stream",
          "text": [
            "INFO:tensorflow:Assets written to: saved_model/my_model/assets\n",
            "WARNING:absl:<keras.layers.recurrent.LSTMCell object at 0x7f9f39f59ca0> has the same name 'LSTMCell' as a built-in Keras object. Consider renaming <class 'keras.layers.recurrent.LSTMCell'> to avoid naming conflicts when loading with `tf.keras.models.load_model`. If renaming is not possible, pass the object in the `custom_objects` parameter of the load function.\n",
            "WARNING:absl:<keras.layers.recurrent.LSTMCell object at 0x7f9f301a6f10> has the same name 'LSTMCell' as a built-in Keras object. Consider renaming <class 'keras.layers.recurrent.LSTMCell'> to avoid naming conflicts when loading with `tf.keras.models.load_model`. If renaming is not possible, pass the object in the `custom_objects` parameter of the load function.\n"
          ]
        },
        {
          "name": "stdout",
          "output_type": "stream",
          "text": [
            "saved_model/\n",
            "saved_model/my_model/\n",
            "saved_model/my_model/keras_metadata.pb\n",
            "saved_model/my_model/variables/\n",
            "saved_model/my_model/variables/variables.data-00000-of-00001\n",
            "saved_model/my_model/variables/variables.index\n",
            "saved_model/my_model/saved_model.pb\n",
            "saved_model/my_model/assets/\n"
          ]
        }
      ],
      "source": [
        "# Save your model in the SavedModel format\n",
        "model.save('saved_model/my_model')\n",
        "\n",
        "# Compress the directory using tar\n",
        "! tar -czvf saved_model.tar.gz saved_model/"
      ]
    },
    {
      "cell_type": "markdown",
      "metadata": {
        "id": "24lLMBlJXoQO"
      },
      "source": [
        "**Congratulations on finishing this week's assignment!**\n",
        "\n",
        "You have successfully implemented a neural network capable of forecasting time series leveraging a combination of Tensorflow's layers such as Convolutional and LSTMs! This resulted in a forecast that surpasses all the ones you did previously.\n",
        "\n",
        "**By finishing this assignment you have finished the specialization! Give yourself a pat on the back!!!**"
      ]
    }
  ],
  "metadata": {
    "kernelspec": {
      "display_name": "Python 3",
      "language": "python",
      "name": "python3"
    },
    "language_info": {
      "codemirror_mode": {
        "name": "ipython",
        "version": 3
      },
      "file_extension": ".py",
      "mimetype": "text/x-python",
      "name": "python",
      "nbconvert_exporter": "python",
      "pygments_lexer": "ipython3",
      "version": "3.8.8"
    },
    "colab": {
      "provenance": [],
      "include_colab_link": true
    }
  },
  "nbformat": 4,
  "nbformat_minor": 0
}